{
  "nbformat": 4,
  "nbformat_minor": 0,
  "metadata": {
    "colab": {
      "name": "Using Numpy, Pandas, Group By.ipynb",
      "provenance": [],
      "collapsed_sections": [],
      "authorship_tag": "ABX9TyPv7uRXJRpNresaqVNEn6od",
      "include_colab_link": true
    },
    "kernelspec": {
      "name": "python3",
      "display_name": "Python 3"
    }
  },
  "cells": [
    {
      "cell_type": "markdown",
      "metadata": {
        "id": "view-in-github",
        "colab_type": "text"
      },
      "source": [
        "<a href=\"https://colab.research.google.com/github/Niyati-Sinha/PYTHON-Codes-By-Niyati-Sinha/blob/master/Python%20Notebooks/Using_Numpy_Pandas_GroupBy.ipynb\" target=\"_parent\"><img src=\"https://colab.research.google.com/assets/colab-badge.svg\" alt=\"Open In Colab\"/></a>"
      ]
    },
    {
      "cell_type": "markdown",
      "metadata": {
        "id": "R4EN0C6FfxJ4"
      },
      "source": [
        "# **PART A**"
      ]
    },
    {
      "cell_type": "markdown",
      "metadata": {
        "id": "CdmXiMvq7NPZ"
      },
      "source": [
        "### **Question 1**"
      ]
    },
    {
      "cell_type": "code",
      "metadata": {
        "id": "As7loyvG7Z3K"
      },
      "source": [
        "import pandas as pd\r\n",
        "import numpy as np"
      ],
      "execution_count": 258,
      "outputs": []
    },
    {
      "cell_type": "code",
      "metadata": {
        "id": "6oL0UCoE7QSb"
      },
      "source": [
        "#creating data frame\r\n",
        "df = pd.DataFrame({'A': ['group1', 'group1', 'group2', 'group1','group2', 'group1', 'group2', 'group2','group2','group1'], 'B': ['true', 'true', 'true', 'false', 'false', 'false', 'false', 'true','false','true']})"
      ],
      "execution_count": 259,
      "outputs": []
    },
    {
      "cell_type": "code",
      "metadata": {
        "colab": {
          "base_uri": "https://localhost:8080/",
          "height": 355
        },
        "id": "UgLHFHSl7iF4",
        "outputId": "eb2c1e76-f244-4e97-c00a-f5e3200c119d"
      },
      "source": [
        "df"
      ],
      "execution_count": 260,
      "outputs": [
        {
          "output_type": "execute_result",
          "data": {
            "text/html": [
              "<div>\n",
              "<style scoped>\n",
              "    .dataframe tbody tr th:only-of-type {\n",
              "        vertical-align: middle;\n",
              "    }\n",
              "\n",
              "    .dataframe tbody tr th {\n",
              "        vertical-align: top;\n",
              "    }\n",
              "\n",
              "    .dataframe thead th {\n",
              "        text-align: right;\n",
              "    }\n",
              "</style>\n",
              "<table border=\"1\" class=\"dataframe\">\n",
              "  <thead>\n",
              "    <tr style=\"text-align: right;\">\n",
              "      <th></th>\n",
              "      <th>A</th>\n",
              "      <th>B</th>\n",
              "    </tr>\n",
              "  </thead>\n",
              "  <tbody>\n",
              "    <tr>\n",
              "      <th>0</th>\n",
              "      <td>group1</td>\n",
              "      <td>true</td>\n",
              "    </tr>\n",
              "    <tr>\n",
              "      <th>1</th>\n",
              "      <td>group1</td>\n",
              "      <td>true</td>\n",
              "    </tr>\n",
              "    <tr>\n",
              "      <th>2</th>\n",
              "      <td>group2</td>\n",
              "      <td>true</td>\n",
              "    </tr>\n",
              "    <tr>\n",
              "      <th>3</th>\n",
              "      <td>group1</td>\n",
              "      <td>false</td>\n",
              "    </tr>\n",
              "    <tr>\n",
              "      <th>4</th>\n",
              "      <td>group2</td>\n",
              "      <td>false</td>\n",
              "    </tr>\n",
              "    <tr>\n",
              "      <th>5</th>\n",
              "      <td>group1</td>\n",
              "      <td>false</td>\n",
              "    </tr>\n",
              "    <tr>\n",
              "      <th>6</th>\n",
              "      <td>group2</td>\n",
              "      <td>false</td>\n",
              "    </tr>\n",
              "    <tr>\n",
              "      <th>7</th>\n",
              "      <td>group2</td>\n",
              "      <td>true</td>\n",
              "    </tr>\n",
              "    <tr>\n",
              "      <th>8</th>\n",
              "      <td>group2</td>\n",
              "      <td>false</td>\n",
              "    </tr>\n",
              "    <tr>\n",
              "      <th>9</th>\n",
              "      <td>group1</td>\n",
              "      <td>true</td>\n",
              "    </tr>\n",
              "  </tbody>\n",
              "</table>\n",
              "</div>"
            ],
            "text/plain": [
              "        A      B\n",
              "0  group1   true\n",
              "1  group1   true\n",
              "2  group2   true\n",
              "3  group1  false\n",
              "4  group2  false\n",
              "5  group1  false\n",
              "6  group2  false\n",
              "7  group2   true\n",
              "8  group2  false\n",
              "9  group1   true"
            ]
          },
          "metadata": {
            "tags": []
          },
          "execution_count": 260
        }
      ]
    },
    {
      "cell_type": "code",
      "metadata": {
        "colab": {
          "base_uri": "https://localhost:8080/",
          "height": 355
        },
        "id": "vdW6e0PRRtQG",
        "outputId": "63702b88-4261-4d18-a52f-610a28363556"
      },
      "source": [
        "#df['B']=df['B'].astype(int)\r\n",
        "df.loc[df['B'] == 'false' , 'B'] = 0 #replacing false by 0\r\n",
        "df.loc[df['B'] == 'true' , 'B'] = 1 #replacing false by 1\r\n",
        "df"
      ],
      "execution_count": 261,
      "outputs": [
        {
          "output_type": "execute_result",
          "data": {
            "text/html": [
              "<div>\n",
              "<style scoped>\n",
              "    .dataframe tbody tr th:only-of-type {\n",
              "        vertical-align: middle;\n",
              "    }\n",
              "\n",
              "    .dataframe tbody tr th {\n",
              "        vertical-align: top;\n",
              "    }\n",
              "\n",
              "    .dataframe thead th {\n",
              "        text-align: right;\n",
              "    }\n",
              "</style>\n",
              "<table border=\"1\" class=\"dataframe\">\n",
              "  <thead>\n",
              "    <tr style=\"text-align: right;\">\n",
              "      <th></th>\n",
              "      <th>A</th>\n",
              "      <th>B</th>\n",
              "    </tr>\n",
              "  </thead>\n",
              "  <tbody>\n",
              "    <tr>\n",
              "      <th>0</th>\n",
              "      <td>group1</td>\n",
              "      <td>1</td>\n",
              "    </tr>\n",
              "    <tr>\n",
              "      <th>1</th>\n",
              "      <td>group1</td>\n",
              "      <td>1</td>\n",
              "    </tr>\n",
              "    <tr>\n",
              "      <th>2</th>\n",
              "      <td>group2</td>\n",
              "      <td>1</td>\n",
              "    </tr>\n",
              "    <tr>\n",
              "      <th>3</th>\n",
              "      <td>group1</td>\n",
              "      <td>0</td>\n",
              "    </tr>\n",
              "    <tr>\n",
              "      <th>4</th>\n",
              "      <td>group2</td>\n",
              "      <td>0</td>\n",
              "    </tr>\n",
              "    <tr>\n",
              "      <th>5</th>\n",
              "      <td>group1</td>\n",
              "      <td>0</td>\n",
              "    </tr>\n",
              "    <tr>\n",
              "      <th>6</th>\n",
              "      <td>group2</td>\n",
              "      <td>0</td>\n",
              "    </tr>\n",
              "    <tr>\n",
              "      <th>7</th>\n",
              "      <td>group2</td>\n",
              "      <td>1</td>\n",
              "    </tr>\n",
              "    <tr>\n",
              "      <th>8</th>\n",
              "      <td>group2</td>\n",
              "      <td>0</td>\n",
              "    </tr>\n",
              "    <tr>\n",
              "      <th>9</th>\n",
              "      <td>group1</td>\n",
              "      <td>1</td>\n",
              "    </tr>\n",
              "  </tbody>\n",
              "</table>\n",
              "</div>"
            ],
            "text/plain": [
              "        A  B\n",
              "0  group1  1\n",
              "1  group1  1\n",
              "2  group2  1\n",
              "3  group1  0\n",
              "4  group2  0\n",
              "5  group1  0\n",
              "6  group2  0\n",
              "7  group2  1\n",
              "8  group2  0\n",
              "9  group1  1"
            ]
          },
          "metadata": {
            "tags": []
          },
          "execution_count": 261
        }
      ]
    },
    {
      "cell_type": "code",
      "metadata": {
        "colab": {
          "base_uri": "https://localhost:8080/"
        },
        "id": "bsdz4-vG7lm_",
        "outputId": "13e7bd92-b9fd-4b86-c945-d2fffd7e0f5c"
      },
      "source": [
        "#print groups which have true count > false count\r\n",
        "for grouphead, restColforParticularGroup in df.groupby('A')['B']:\r\n",
        "    freq = np.array(restColforParticularGroup)\r\n",
        "    trueGr = (freq==1).sum() #trueGr=np.count_nonzero(freq==1)\r\n",
        "    falseGr = (freq==0).sum()\r\n",
        "    if trueGr> falseGr:\r\n",
        "      print(grouphead)"
      ],
      "execution_count": 262,
      "outputs": [
        {
          "output_type": "stream",
          "text": [
            "group1\n"
          ],
          "name": "stdout"
        }
      ]
    },
    {
      "cell_type": "code",
      "metadata": {
        "id": "V3YQdwOKKF7j"
      },
      "source": [
        ""
      ],
      "execution_count": 262,
      "outputs": []
    },
    {
      "cell_type": "markdown",
      "metadata": {
        "id": "VJ-FuKhBYEbe"
      },
      "source": [
        "### **Question 2**"
      ]
    },
    {
      "cell_type": "code",
      "metadata": {
        "id": "7DoExiObYGxV"
      },
      "source": [
        "#creating pandas series\r\n",
        "ser1 = pd.Series([1, 2, 3, 4, 5]) \r\n",
        "ser2 = pd.Series([4, 5, 6, 7, 8])"
      ],
      "execution_count": 263,
      "outputs": []
    },
    {
      "cell_type": "markdown",
      "metadata": {
        "id": "KgeX9b3rY5s9"
      },
      "source": [
        "**a.Get the items not common to both series A and series B (Without using loops)**"
      ]
    },
    {
      "cell_type": "code",
      "metadata": {
        "colab": {
          "base_uri": "https://localhost:8080/"
        },
        "id": "KDXwgcvdY_WL",
        "outputId": "a4536e46-0fe1-43af-ccb4-93fb47acc244"
      },
      "source": [
        "#A unioun B - A intersection B\r\n",
        "print(list(set(ser1).union(set(ser2))-set(ser1).intersection(set(ser2))))"
      ],
      "execution_count": 264,
      "outputs": [
        {
          "output_type": "stream",
          "text": [
            "[1, 2, 3, 6, 7, 8]\n"
          ],
          "name": "stdout"
        }
      ]
    },
    {
      "cell_type": "markdown",
      "metadata": {
        "id": "qEKNvJiAZsIS"
      },
      "source": [
        "**b.Get the items common to both series A and series B(Without using loops)**"
      ]
    },
    {
      "cell_type": "code",
      "metadata": {
        "colab": {
          "base_uri": "https://localhost:8080/"
        },
        "id": "w1HKmc7GZvcN",
        "outputId": "85786713-ee92-414d-cd93-98796846b48b"
      },
      "source": [
        "#A intersection B\r\n",
        "print(list(set(ser1).intersection(set(ser2))))"
      ],
      "execution_count": 265,
      "outputs": [
        {
          "output_type": "stream",
          "text": [
            "[4, 5]\n"
          ],
          "name": "stdout"
        }
      ]
    },
    {
      "cell_type": "markdown",
      "metadata": {
        "id": "psUG0--KaOj5"
      },
      "source": [
        "### **Question 3**"
      ]
    },
    {
      "cell_type": "markdown",
      "metadata": {
        "id": "dgKyCSzbd3Yi"
      },
      "source": [
        "**a. Generate a random series of length 10 and find the positions of numbers that are multiples of 3 from a series?**"
      ]
    },
    {
      "cell_type": "code",
      "metadata": {
        "colab": {
          "base_uri": "https://localhost:8080/"
        },
        "id": "jXgI0nRBbKT3",
        "outputId": "c79a4e65-1f42-4d8c-ff6f-9a6712d97855"
      },
      "source": [
        "#create a dataframe of 10 random numbers ranging between 0 and 100\r\n",
        "x=np.random.randint(100, size=(10))\r\n",
        "df = pd.Series(x)\r\n",
        "df"
      ],
      "execution_count": 266,
      "outputs": [
        {
          "output_type": "execute_result",
          "data": {
            "text/plain": [
              "0     8\n",
              "1     7\n",
              "2    17\n",
              "3    58\n",
              "4    95\n",
              "5    82\n",
              "6     7\n",
              "7    97\n",
              "8    72\n",
              "9    84\n",
              "dtype: int64"
            ]
          },
          "metadata": {
            "tags": []
          },
          "execution_count": 266
        }
      ]
    },
    {
      "cell_type": "code",
      "metadata": {
        "colab": {
          "base_uri": "https://localhost:8080/"
        },
        "id": "phpoiSPWbc81",
        "outputId": "06d958d3-6772-43a1-d79e-413825d466d5"
      },
      "source": [
        "#if number in dataframe is divisible by 3 return position\r\n",
        "df[df%3==0].index"
      ],
      "execution_count": 267,
      "outputs": [
        {
          "output_type": "execute_result",
          "data": {
            "text/plain": [
              "Int64Index([8, 9], dtype='int64')"
            ]
          },
          "metadata": {
            "tags": []
          },
          "execution_count": 267
        }
      ]
    },
    {
      "cell_type": "markdown",
      "metadata": {
        "id": "VC4SWENcc4EH"
      },
      "source": [
        "**b. Compute the cumulative difference between the consecutive number for the same series(without using loops).**"
      ]
    },
    {
      "cell_type": "code",
      "metadata": {
        "colab": {
          "base_uri": "https://localhost:8080/"
        },
        "id": "Y83oeJ2FaXCR",
        "outputId": "a2ae95ee-fb02-47c3-9ad0-545c4d266de1"
      },
      "source": [
        "s1=pd.Series([1, 3, 6, 10, 15, 21, 27, 35])\r\n",
        "s1"
      ],
      "execution_count": 268,
      "outputs": [
        {
          "output_type": "execute_result",
          "data": {
            "text/plain": [
              "0     1\n",
              "1     3\n",
              "2     6\n",
              "3    10\n",
              "4    15\n",
              "5    21\n",
              "6    27\n",
              "7    35\n",
              "dtype: int64"
            ]
          },
          "metadata": {
            "tags": []
          },
          "execution_count": 268
        }
      ]
    },
    {
      "cell_type": "code",
      "metadata": {
        "colab": {
          "base_uri": "https://localhost:8080/"
        },
        "id": "eHfR-zU-etfE",
        "outputId": "1b6b37c3-de00-4641-d660-093b39f29998"
      },
      "source": [
        "#cumulative_diff = s1.diff()\r\n",
        "#cumulative_diff = list(cumulative_diff)\r\n",
        "cumulative_diff = list(s1.diff())\r\n",
        "cumulative_diff"
      ],
      "execution_count": 269,
      "outputs": [
        {
          "output_type": "execute_result",
          "data": {
            "text/plain": [
              "[nan, 2.0, 3.0, 4.0, 5.0, 6.0, 6.0, 8.0]"
            ]
          },
          "metadata": {
            "tags": []
          },
          "execution_count": 269
        }
      ]
    },
    {
      "cell_type": "markdown",
      "metadata": {
        "id": "uWqM_AULflsD"
      },
      "source": [
        "# **PART B Use the data (Grouby_Assignment_Data.csv)**"
      ]
    },
    {
      "cell_type": "code",
      "metadata": {
        "colab": {
          "base_uri": "https://localhost:8080/"
        },
        "id": "YhTRMcT6fuiD",
        "outputId": "a1116199-7268-4dba-bab1-04fea0c9b540"
      },
      "source": [
        "from google.colab import drive\r\n",
        "drive.mount('/content/drive')"
      ],
      "execution_count": 270,
      "outputs": [
        {
          "output_type": "stream",
          "text": [
            "Drive already mounted at /content/drive; to attempt to forcibly remount, call drive.mount(\"/content/drive\", force_remount=True).\n"
          ],
          "name": "stdout"
        }
      ]
    },
    {
      "cell_type": "code",
      "metadata": {
        "colab": {
          "base_uri": "https://localhost:8080/",
          "height": 453
        },
        "id": "GqLnKnu8gesT",
        "outputId": "1142f777-d24d-47db-f064-d5678ad9047b"
      },
      "source": [
        "df=pd.read_csv(r'/content/drive/My Drive/Colab Datasets/Grouby_Assignment_Data.csv')\r\n",
        "df"
      ],
      "execution_count": 271,
      "outputs": [
        {
          "output_type": "execute_result",
          "data": {
            "text/html": [
              "<div>\n",
              "<style scoped>\n",
              "    .dataframe tbody tr th:only-of-type {\n",
              "        vertical-align: middle;\n",
              "    }\n",
              "\n",
              "    .dataframe tbody tr th {\n",
              "        vertical-align: top;\n",
              "    }\n",
              "\n",
              "    .dataframe thead th {\n",
              "        text-align: right;\n",
              "    }\n",
              "</style>\n",
              "<table border=\"1\" class=\"dataframe\">\n",
              "  <thead>\n",
              "    <tr style=\"text-align: right;\">\n",
              "      <th></th>\n",
              "      <th>Unnamed: 0</th>\n",
              "      <th>Unnamed: 0.1</th>\n",
              "      <th>school_state</th>\n",
              "      <th>teacher_prefix</th>\n",
              "      <th>project_grade_category</th>\n",
              "      <th>teacher_number_of_previously_posted_projects</th>\n",
              "      <th>project_is_approved</th>\n",
              "      <th>project_subject_categories</th>\n",
              "      <th>project_subject_subcategories</th>\n",
              "      <th>price</th>\n",
              "      <th>quantity</th>\n",
              "    </tr>\n",
              "  </thead>\n",
              "  <tbody>\n",
              "    <tr>\n",
              "      <th>0</th>\n",
              "      <td>0</td>\n",
              "      <td>0</td>\n",
              "      <td>in</td>\n",
              "      <td>mrs</td>\n",
              "      <td>grades_prek_2</td>\n",
              "      <td>0</td>\n",
              "      <td>0</td>\n",
              "      <td>literacy_language</td>\n",
              "      <td>esl_literacy</td>\n",
              "      <td>154.60</td>\n",
              "      <td>23</td>\n",
              "    </tr>\n",
              "    <tr>\n",
              "      <th>1</th>\n",
              "      <td>1</td>\n",
              "      <td>1</td>\n",
              "      <td>fl</td>\n",
              "      <td>mr</td>\n",
              "      <td>grades_6_8</td>\n",
              "      <td>7</td>\n",
              "      <td>1</td>\n",
              "      <td>history_civics_health_sports</td>\n",
              "      <td>civics_government_teamsports</td>\n",
              "      <td>299.00</td>\n",
              "      <td>1</td>\n",
              "    </tr>\n",
              "    <tr>\n",
              "      <th>2</th>\n",
              "      <td>2</td>\n",
              "      <td>2</td>\n",
              "      <td>az</td>\n",
              "      <td>ms</td>\n",
              "      <td>grades_6_8</td>\n",
              "      <td>1</td>\n",
              "      <td>0</td>\n",
              "      <td>health_sports</td>\n",
              "      <td>health_wellness_teamsports</td>\n",
              "      <td>516.85</td>\n",
              "      <td>22</td>\n",
              "    </tr>\n",
              "    <tr>\n",
              "      <th>3</th>\n",
              "      <td>3</td>\n",
              "      <td>3</td>\n",
              "      <td>ky</td>\n",
              "      <td>mrs</td>\n",
              "      <td>grades_prek_2</td>\n",
              "      <td>4</td>\n",
              "      <td>1</td>\n",
              "      <td>literacy_language_math_science</td>\n",
              "      <td>literacy_mathematics</td>\n",
              "      <td>232.90</td>\n",
              "      <td>4</td>\n",
              "    </tr>\n",
              "    <tr>\n",
              "      <th>4</th>\n",
              "      <td>4</td>\n",
              "      <td>4</td>\n",
              "      <td>tx</td>\n",
              "      <td>mrs</td>\n",
              "      <td>grades_prek_2</td>\n",
              "      <td>1</td>\n",
              "      <td>1</td>\n",
              "      <td>math_science</td>\n",
              "      <td>mathematics</td>\n",
              "      <td>67.98</td>\n",
              "      <td>4</td>\n",
              "    </tr>\n",
              "    <tr>\n",
              "      <th>...</th>\n",
              "      <td>...</td>\n",
              "      <td>...</td>\n",
              "      <td>...</td>\n",
              "      <td>...</td>\n",
              "      <td>...</td>\n",
              "      <td>...</td>\n",
              "      <td>...</td>\n",
              "      <td>...</td>\n",
              "      <td>...</td>\n",
              "      <td>...</td>\n",
              "      <td>...</td>\n",
              "    </tr>\n",
              "    <tr>\n",
              "      <th>109221</th>\n",
              "      <td>109221</td>\n",
              "      <td>109243</td>\n",
              "      <td>mo</td>\n",
              "      <td>mr</td>\n",
              "      <td>grades_prek_2</td>\n",
              "      <td>0</td>\n",
              "      <td>1</td>\n",
              "      <td>literacy_language_math_science</td>\n",
              "      <td>literature_writing_mathematics</td>\n",
              "      <td>59.98</td>\n",
              "      <td>8</td>\n",
              "    </tr>\n",
              "    <tr>\n",
              "      <th>109222</th>\n",
              "      <td>109222</td>\n",
              "      <td>109244</td>\n",
              "      <td>nj</td>\n",
              "      <td>ms</td>\n",
              "      <td>grades_prek_2</td>\n",
              "      <td>0</td>\n",
              "      <td>1</td>\n",
              "      <td>literacy_language_math_science</td>\n",
              "      <td>literacy_mathematics</td>\n",
              "      <td>846.32</td>\n",
              "      <td>4</td>\n",
              "    </tr>\n",
              "    <tr>\n",
              "      <th>109223</th>\n",
              "      <td>109223</td>\n",
              "      <td>109245</td>\n",
              "      <td>nj</td>\n",
              "      <td>mrs</td>\n",
              "      <td>grades_prek_2</td>\n",
              "      <td>3</td>\n",
              "      <td>1</td>\n",
              "      <td>literacy_language_math_science</td>\n",
              "      <td>literacy_mathematics</td>\n",
              "      <td>239.96</td>\n",
              "      <td>4</td>\n",
              "    </tr>\n",
              "    <tr>\n",
              "      <th>109224</th>\n",
              "      <td>109224</td>\n",
              "      <td>109246</td>\n",
              "      <td>ny</td>\n",
              "      <td>mrs</td>\n",
              "      <td>grades_3_5</td>\n",
              "      <td>0</td>\n",
              "      <td>1</td>\n",
              "      <td>health_sports_specialneeds</td>\n",
              "      <td>health_wellness_specialneeds</td>\n",
              "      <td>73.05</td>\n",
              "      <td>16</td>\n",
              "    </tr>\n",
              "    <tr>\n",
              "      <th>109225</th>\n",
              "      <td>109225</td>\n",
              "      <td>109247</td>\n",
              "      <td>va</td>\n",
              "      <td>ms</td>\n",
              "      <td>grades_6_8</td>\n",
              "      <td>0</td>\n",
              "      <td>1</td>\n",
              "      <td>appliedlearning_math_science</td>\n",
              "      <td>college_careerprep_mathematics</td>\n",
              "      <td>109.90</td>\n",
              "      <td>5</td>\n",
              "    </tr>\n",
              "  </tbody>\n",
              "</table>\n",
              "<p>109226 rows × 11 columns</p>\n",
              "</div>"
            ],
            "text/plain": [
              "        Unnamed: 0  Unnamed: 0.1  ...   price quantity\n",
              "0                0             0  ...  154.60       23\n",
              "1                1             1  ...  299.00        1\n",
              "2                2             2  ...  516.85       22\n",
              "3                3             3  ...  232.90        4\n",
              "4                4             4  ...   67.98        4\n",
              "...            ...           ...  ...     ...      ...\n",
              "109221      109221        109243  ...   59.98        8\n",
              "109222      109222        109244  ...  846.32        4\n",
              "109223      109223        109245  ...  239.96        4\n",
              "109224      109224        109246  ...   73.05       16\n",
              "109225      109225        109247  ...  109.90        5\n",
              "\n",
              "[109226 rows x 11 columns]"
            ]
          },
          "metadata": {
            "tags": []
          },
          "execution_count": 271
        }
      ]
    },
    {
      "cell_type": "markdown",
      "metadata": {
        "id": "_Dv9whNghFeC"
      },
      "source": [
        "### **Question 1**"
      ]
    },
    {
      "cell_type": "markdown",
      "metadata": {
        "id": "pA4cujg9hUy8"
      },
      "source": [
        "**Find the Average price of project from each state**"
      ]
    },
    {
      "cell_type": "code",
      "metadata": {
        "colab": {
          "base_uri": "https://localhost:8080/"
        },
        "id": "JN8sBuQghDDq",
        "outputId": "838ee93f-2a41-4d7f-83aa-12062a343bef"
      },
      "source": [
        "#group by column school_state and giving mean of 'price' according to the groups\r\n",
        "df.groupby('school_state')['price'].mean()"
      ],
      "execution_count": 272,
      "outputs": [
        {
          "output_type": "execute_result",
          "data": {
            "text/plain": [
              "school_state\n",
              "ak    337.510667\n",
              "al    298.641397\n",
              "ar    278.166613\n",
              "az    252.355673\n",
              "ca    323.282639\n",
              "co    252.666940\n",
              "ct    311.030415\n",
              "dc    360.152267\n",
              "de    234.136735\n",
              "fl    297.499525\n",
              "ga    308.207945\n",
              "hi    365.838639\n",
              "ia    284.773153\n",
              "id    253.708874\n",
              "il    284.538685\n",
              "in    249.736221\n",
              "ks    246.894763\n",
              "ky    280.020031\n",
              "la    358.954185\n",
              "ma    328.623520\n",
              "md    303.952794\n",
              "me    274.640000\n",
              "mi    299.793970\n",
              "mn    249.289851\n",
              "mo    276.094635\n",
              "ms    306.512922\n",
              "mt    278.000490\n",
              "nc    254.037568\n",
              "nd    256.985035\n",
              "ne    286.515307\n",
              "nh    330.994425\n",
              "nj    336.891618\n",
              "nm    297.836876\n",
              "nv    283.005000\n",
              "ny    335.973861\n",
              "oh    271.301090\n",
              "ok    264.163071\n",
              "or    289.779098\n",
              "pa    279.585613\n",
              "ri    296.904035\n",
              "sc    247.343586\n",
              "sd    249.673433\n",
              "tn    279.079419\n",
              "tx    304.977799\n",
              "ut    310.182139\n",
              "va    267.539311\n",
              "vt    289.467250\n",
              "wa    283.266018\n",
              "wi    301.433963\n",
              "wv    258.633121\n",
              "wy    307.638878\n",
              "Name: price, dtype: float64"
            ]
          },
          "metadata": {
            "tags": []
          },
          "execution_count": 272
        }
      ]
    },
    {
      "cell_type": "markdown",
      "metadata": {
        "id": "Py-kE91dinQ4"
      },
      "source": [
        "### **Question 2**"
      ]
    },
    {
      "cell_type": "markdown",
      "metadata": {
        "id": "2ynEeYLfigUC"
      },
      "source": [
        "**a. Find the total number of projects previously posted by all the teachers belonging to each teacher prefix. For Example all the teachers having prefix as dr have posted a total of 13 projects combined previously.**"
      ]
    },
    {
      "cell_type": "code",
      "metadata": {
        "colab": {
          "base_uri": "https://localhost:8080/"
        },
        "id": "JshmUqeBimSi",
        "outputId": "6b7bbdd2-b183-4ee3-bca5-0084ad207420"
      },
      "source": [
        "#group by column 'teacher_prefix' and giving sum of 'teacher_number_of_previously_posted_projects' according to the groups\r\n",
        "df.groupby('teacher_prefix')['teacher_number_of_previously_posted_projects'].sum()"
      ],
      "execution_count": 273,
      "outputs": [
        {
          "output_type": "execute_result",
          "data": {
            "text/plain": [
              "teacher_prefix\n",
              "dr             53\n",
              "mr         129516\n",
              "mrs        639471\n",
              "ms         441295\n",
              "teacher      7671\n",
              "Name: teacher_number_of_previously_posted_projects, dtype: int64"
            ]
          },
          "metadata": {
            "tags": []
          },
          "execution_count": 273
        }
      ]
    },
    {
      "cell_type": "markdown",
      "metadata": {
        "id": "ucsgXjcrj18m"
      },
      "source": [
        "**b. Find the prefix of the teacher who has posted the maximum of projects previously**"
      ]
    },
    {
      "cell_type": "code",
      "metadata": {
        "colab": {
          "base_uri": "https://localhost:8080/",
          "height": 35
        },
        "id": "VD2nxa-Tif5-",
        "outputId": "9dd1553f-c796-42dc-a5ad-2a67ed20416b"
      },
      "source": [
        "#df.groupby('teacher_prefix')['teacher_number_of_previously_posted_projects'].max()\r\n",
        "#maxPro=df['teacher_number_of_previously_posted_projects'].max()\r\n",
        "df.loc[df['teacher_number_of_previously_posted_projects'].max(),'teacher_prefix']"
      ],
      "execution_count": 274,
      "outputs": [
        {
          "output_type": "execute_result",
          "data": {
            "application/vnd.google.colaboratory.intrinsic+json": {
              "type": "string"
            },
            "text/plain": [
              "'mrs'"
            ]
          },
          "metadata": {
            "tags": []
          },
          "execution_count": 274
        }
      ]
    },
    {
      "cell_type": "markdown",
      "metadata": {
        "id": "mRroGDsWoBUW"
      },
      "source": [
        "### **Question 3**"
      ]
    },
    {
      "cell_type": "markdown",
      "metadata": {
        "id": "ynOr8PSxmAnD"
      },
      "source": [
        "**Find the number of projects approved for each project subject category belonging to the project grade category 'grade_9_12'**"
      ]
    },
    {
      "cell_type": "code",
      "metadata": {
        "colab": {
          "base_uri": "https://localhost:8080/",
          "height": 453
        },
        "id": "9mpRKaGPB_44",
        "outputId": "4286b1ca-36b5-42ad-c218-593f476a6346"
      },
      "source": [
        "df"
      ],
      "execution_count": 275,
      "outputs": [
        {
          "output_type": "execute_result",
          "data": {
            "text/html": [
              "<div>\n",
              "<style scoped>\n",
              "    .dataframe tbody tr th:only-of-type {\n",
              "        vertical-align: middle;\n",
              "    }\n",
              "\n",
              "    .dataframe tbody tr th {\n",
              "        vertical-align: top;\n",
              "    }\n",
              "\n",
              "    .dataframe thead th {\n",
              "        text-align: right;\n",
              "    }\n",
              "</style>\n",
              "<table border=\"1\" class=\"dataframe\">\n",
              "  <thead>\n",
              "    <tr style=\"text-align: right;\">\n",
              "      <th></th>\n",
              "      <th>Unnamed: 0</th>\n",
              "      <th>Unnamed: 0.1</th>\n",
              "      <th>school_state</th>\n",
              "      <th>teacher_prefix</th>\n",
              "      <th>project_grade_category</th>\n",
              "      <th>teacher_number_of_previously_posted_projects</th>\n",
              "      <th>project_is_approved</th>\n",
              "      <th>project_subject_categories</th>\n",
              "      <th>project_subject_subcategories</th>\n",
              "      <th>price</th>\n",
              "      <th>quantity</th>\n",
              "    </tr>\n",
              "  </thead>\n",
              "  <tbody>\n",
              "    <tr>\n",
              "      <th>0</th>\n",
              "      <td>0</td>\n",
              "      <td>0</td>\n",
              "      <td>in</td>\n",
              "      <td>mrs</td>\n",
              "      <td>grades_prek_2</td>\n",
              "      <td>0</td>\n",
              "      <td>0</td>\n",
              "      <td>literacy_language</td>\n",
              "      <td>esl_literacy</td>\n",
              "      <td>154.60</td>\n",
              "      <td>23</td>\n",
              "    </tr>\n",
              "    <tr>\n",
              "      <th>1</th>\n",
              "      <td>1</td>\n",
              "      <td>1</td>\n",
              "      <td>fl</td>\n",
              "      <td>mr</td>\n",
              "      <td>grades_6_8</td>\n",
              "      <td>7</td>\n",
              "      <td>1</td>\n",
              "      <td>history_civics_health_sports</td>\n",
              "      <td>civics_government_teamsports</td>\n",
              "      <td>299.00</td>\n",
              "      <td>1</td>\n",
              "    </tr>\n",
              "    <tr>\n",
              "      <th>2</th>\n",
              "      <td>2</td>\n",
              "      <td>2</td>\n",
              "      <td>az</td>\n",
              "      <td>ms</td>\n",
              "      <td>grades_6_8</td>\n",
              "      <td>1</td>\n",
              "      <td>0</td>\n",
              "      <td>health_sports</td>\n",
              "      <td>health_wellness_teamsports</td>\n",
              "      <td>516.85</td>\n",
              "      <td>22</td>\n",
              "    </tr>\n",
              "    <tr>\n",
              "      <th>3</th>\n",
              "      <td>3</td>\n",
              "      <td>3</td>\n",
              "      <td>ky</td>\n",
              "      <td>mrs</td>\n",
              "      <td>grades_prek_2</td>\n",
              "      <td>4</td>\n",
              "      <td>1</td>\n",
              "      <td>literacy_language_math_science</td>\n",
              "      <td>literacy_mathematics</td>\n",
              "      <td>232.90</td>\n",
              "      <td>4</td>\n",
              "    </tr>\n",
              "    <tr>\n",
              "      <th>4</th>\n",
              "      <td>4</td>\n",
              "      <td>4</td>\n",
              "      <td>tx</td>\n",
              "      <td>mrs</td>\n",
              "      <td>grades_prek_2</td>\n",
              "      <td>1</td>\n",
              "      <td>1</td>\n",
              "      <td>math_science</td>\n",
              "      <td>mathematics</td>\n",
              "      <td>67.98</td>\n",
              "      <td>4</td>\n",
              "    </tr>\n",
              "    <tr>\n",
              "      <th>...</th>\n",
              "      <td>...</td>\n",
              "      <td>...</td>\n",
              "      <td>...</td>\n",
              "      <td>...</td>\n",
              "      <td>...</td>\n",
              "      <td>...</td>\n",
              "      <td>...</td>\n",
              "      <td>...</td>\n",
              "      <td>...</td>\n",
              "      <td>...</td>\n",
              "      <td>...</td>\n",
              "    </tr>\n",
              "    <tr>\n",
              "      <th>109221</th>\n",
              "      <td>109221</td>\n",
              "      <td>109243</td>\n",
              "      <td>mo</td>\n",
              "      <td>mr</td>\n",
              "      <td>grades_prek_2</td>\n",
              "      <td>0</td>\n",
              "      <td>1</td>\n",
              "      <td>literacy_language_math_science</td>\n",
              "      <td>literature_writing_mathematics</td>\n",
              "      <td>59.98</td>\n",
              "      <td>8</td>\n",
              "    </tr>\n",
              "    <tr>\n",
              "      <th>109222</th>\n",
              "      <td>109222</td>\n",
              "      <td>109244</td>\n",
              "      <td>nj</td>\n",
              "      <td>ms</td>\n",
              "      <td>grades_prek_2</td>\n",
              "      <td>0</td>\n",
              "      <td>1</td>\n",
              "      <td>literacy_language_math_science</td>\n",
              "      <td>literacy_mathematics</td>\n",
              "      <td>846.32</td>\n",
              "      <td>4</td>\n",
              "    </tr>\n",
              "    <tr>\n",
              "      <th>109223</th>\n",
              "      <td>109223</td>\n",
              "      <td>109245</td>\n",
              "      <td>nj</td>\n",
              "      <td>mrs</td>\n",
              "      <td>grades_prek_2</td>\n",
              "      <td>3</td>\n",
              "      <td>1</td>\n",
              "      <td>literacy_language_math_science</td>\n",
              "      <td>literacy_mathematics</td>\n",
              "      <td>239.96</td>\n",
              "      <td>4</td>\n",
              "    </tr>\n",
              "    <tr>\n",
              "      <th>109224</th>\n",
              "      <td>109224</td>\n",
              "      <td>109246</td>\n",
              "      <td>ny</td>\n",
              "      <td>mrs</td>\n",
              "      <td>grades_3_5</td>\n",
              "      <td>0</td>\n",
              "      <td>1</td>\n",
              "      <td>health_sports_specialneeds</td>\n",
              "      <td>health_wellness_specialneeds</td>\n",
              "      <td>73.05</td>\n",
              "      <td>16</td>\n",
              "    </tr>\n",
              "    <tr>\n",
              "      <th>109225</th>\n",
              "      <td>109225</td>\n",
              "      <td>109247</td>\n",
              "      <td>va</td>\n",
              "      <td>ms</td>\n",
              "      <td>grades_6_8</td>\n",
              "      <td>0</td>\n",
              "      <td>1</td>\n",
              "      <td>appliedlearning_math_science</td>\n",
              "      <td>college_careerprep_mathematics</td>\n",
              "      <td>109.90</td>\n",
              "      <td>5</td>\n",
              "    </tr>\n",
              "  </tbody>\n",
              "</table>\n",
              "<p>109226 rows × 11 columns</p>\n",
              "</div>"
            ],
            "text/plain": [
              "        Unnamed: 0  Unnamed: 0.1  ...   price quantity\n",
              "0                0             0  ...  154.60       23\n",
              "1                1             1  ...  299.00        1\n",
              "2                2             2  ...  516.85       22\n",
              "3                3             3  ...  232.90        4\n",
              "4                4             4  ...   67.98        4\n",
              "...            ...           ...  ...     ...      ...\n",
              "109221      109221        109243  ...   59.98        8\n",
              "109222      109222        109244  ...  846.32        4\n",
              "109223      109223        109245  ...  239.96        4\n",
              "109224      109224        109246  ...   73.05       16\n",
              "109225      109225        109247  ...  109.90        5\n",
              "\n",
              "[109226 rows x 11 columns]"
            ]
          },
          "metadata": {
            "tags": []
          },
          "execution_count": 275
        }
      ]
    },
    {
      "cell_type": "code",
      "metadata": {
        "colab": {
          "base_uri": "https://localhost:8080/",
          "height": 453
        },
        "id": "_DsQCzWmmfZQ",
        "outputId": "ae067096-3528-4461-ad5e-a2db8d53a677"
      },
      "source": [
        "#creating a dataframe consisting of project_grade_category as 'grades_9_12'\r\n",
        "df3=df[df.project_grade_category == 'grades_9_12']\r\n",
        "df3\r\n"
      ],
      "execution_count": 276,
      "outputs": [
        {
          "output_type": "execute_result",
          "data": {
            "text/html": [
              "<div>\n",
              "<style scoped>\n",
              "    .dataframe tbody tr th:only-of-type {\n",
              "        vertical-align: middle;\n",
              "    }\n",
              "\n",
              "    .dataframe tbody tr th {\n",
              "        vertical-align: top;\n",
              "    }\n",
              "\n",
              "    .dataframe thead th {\n",
              "        text-align: right;\n",
              "    }\n",
              "</style>\n",
              "<table border=\"1\" class=\"dataframe\">\n",
              "  <thead>\n",
              "    <tr style=\"text-align: right;\">\n",
              "      <th></th>\n",
              "      <th>Unnamed: 0</th>\n",
              "      <th>Unnamed: 0.1</th>\n",
              "      <th>school_state</th>\n",
              "      <th>teacher_prefix</th>\n",
              "      <th>project_grade_category</th>\n",
              "      <th>teacher_number_of_previously_posted_projects</th>\n",
              "      <th>project_is_approved</th>\n",
              "      <th>project_subject_categories</th>\n",
              "      <th>project_subject_subcategories</th>\n",
              "      <th>price</th>\n",
              "      <th>quantity</th>\n",
              "    </tr>\n",
              "  </thead>\n",
              "  <tbody>\n",
              "    <tr>\n",
              "      <th>22</th>\n",
              "      <td>22</td>\n",
              "      <td>22</td>\n",
              "      <td>ca</td>\n",
              "      <td>ms</td>\n",
              "      <td>grades_9_12</td>\n",
              "      <td>0</td>\n",
              "      <td>0</td>\n",
              "      <td>literacy_language</td>\n",
              "      <td>literacy</td>\n",
              "      <td>278.09</td>\n",
              "      <td>21</td>\n",
              "    </tr>\n",
              "    <tr>\n",
              "      <th>28</th>\n",
              "      <td>28</td>\n",
              "      <td>28</td>\n",
              "      <td>ga</td>\n",
              "      <td>mrs</td>\n",
              "      <td>grades_9_12</td>\n",
              "      <td>5</td>\n",
              "      <td>0</td>\n",
              "      <td>literacy_language_specialneeds</td>\n",
              "      <td>literacy_specialneeds</td>\n",
              "      <td>129.98</td>\n",
              "      <td>3</td>\n",
              "    </tr>\n",
              "    <tr>\n",
              "      <th>39</th>\n",
              "      <td>39</td>\n",
              "      <td>39</td>\n",
              "      <td>fl</td>\n",
              "      <td>ms</td>\n",
              "      <td>grades_9_12</td>\n",
              "      <td>0</td>\n",
              "      <td>1</td>\n",
              "      <td>literacy_language</td>\n",
              "      <td>literacy_literature_writing</td>\n",
              "      <td>49.99</td>\n",
              "      <td>25</td>\n",
              "    </tr>\n",
              "    <tr>\n",
              "      <th>63</th>\n",
              "      <td>63</td>\n",
              "      <td>63</td>\n",
              "      <td>pa</td>\n",
              "      <td>mr</td>\n",
              "      <td>grades_9_12</td>\n",
              "      <td>9</td>\n",
              "      <td>1</td>\n",
              "      <td>music_arts</td>\n",
              "      <td>visualarts</td>\n",
              "      <td>75.54</td>\n",
              "      <td>62</td>\n",
              "    </tr>\n",
              "    <tr>\n",
              "      <th>73</th>\n",
              "      <td>73</td>\n",
              "      <td>73</td>\n",
              "      <td>ca</td>\n",
              "      <td>mrs</td>\n",
              "      <td>grades_9_12</td>\n",
              "      <td>3</td>\n",
              "      <td>0</td>\n",
              "      <td>appliedlearning</td>\n",
              "      <td>college_careerprep</td>\n",
              "      <td>142.84</td>\n",
              "      <td>13</td>\n",
              "    </tr>\n",
              "    <tr>\n",
              "      <th>...</th>\n",
              "      <td>...</td>\n",
              "      <td>...</td>\n",
              "      <td>...</td>\n",
              "      <td>...</td>\n",
              "      <td>...</td>\n",
              "      <td>...</td>\n",
              "      <td>...</td>\n",
              "      <td>...</td>\n",
              "      <td>...</td>\n",
              "      <td>...</td>\n",
              "      <td>...</td>\n",
              "    </tr>\n",
              "    <tr>\n",
              "      <th>109116</th>\n",
              "      <td>109116</td>\n",
              "      <td>109138</td>\n",
              "      <td>hi</td>\n",
              "      <td>ms</td>\n",
              "      <td>grades_9_12</td>\n",
              "      <td>1</td>\n",
              "      <td>1</td>\n",
              "      <td>math_science</td>\n",
              "      <td>environmentalscience_health_lifescience</td>\n",
              "      <td>197.99</td>\n",
              "      <td>10</td>\n",
              "    </tr>\n",
              "    <tr>\n",
              "      <th>109142</th>\n",
              "      <td>109142</td>\n",
              "      <td>109164</td>\n",
              "      <td>oh</td>\n",
              "      <td>ms</td>\n",
              "      <td>grades_9_12</td>\n",
              "      <td>1</td>\n",
              "      <td>1</td>\n",
              "      <td>math_science</td>\n",
              "      <td>appliedsciences</td>\n",
              "      <td>401.57</td>\n",
              "      <td>9</td>\n",
              "    </tr>\n",
              "    <tr>\n",
              "      <th>109172</th>\n",
              "      <td>109172</td>\n",
              "      <td>109194</td>\n",
              "      <td>nc</td>\n",
              "      <td>mr</td>\n",
              "      <td>grades_9_12</td>\n",
              "      <td>1</td>\n",
              "      <td>1</td>\n",
              "      <td>math_science</td>\n",
              "      <td>mathematics</td>\n",
              "      <td>117.64</td>\n",
              "      <td>3</td>\n",
              "    </tr>\n",
              "    <tr>\n",
              "      <th>109208</th>\n",
              "      <td>109208</td>\n",
              "      <td>109230</td>\n",
              "      <td>ny</td>\n",
              "      <td>ms</td>\n",
              "      <td>grades_9_12</td>\n",
              "      <td>0</td>\n",
              "      <td>1</td>\n",
              "      <td>specialneeds</td>\n",
              "      <td>specialneeds</td>\n",
              "      <td>309.60</td>\n",
              "      <td>4</td>\n",
              "    </tr>\n",
              "    <tr>\n",
              "      <th>109209</th>\n",
              "      <td>109209</td>\n",
              "      <td>109231</td>\n",
              "      <td>az</td>\n",
              "      <td>mrs</td>\n",
              "      <td>grades_9_12</td>\n",
              "      <td>7</td>\n",
              "      <td>1</td>\n",
              "      <td>health_sports</td>\n",
              "      <td>gym_fitness</td>\n",
              "      <td>155.70</td>\n",
              "      <td>5</td>\n",
              "    </tr>\n",
              "  </tbody>\n",
              "</table>\n",
              "<p>10960 rows × 11 columns</p>\n",
              "</div>"
            ],
            "text/plain": [
              "        Unnamed: 0  Unnamed: 0.1  ...   price quantity\n",
              "22              22            22  ...  278.09       21\n",
              "28              28            28  ...  129.98        3\n",
              "39              39            39  ...   49.99       25\n",
              "63              63            63  ...   75.54       62\n",
              "73              73            73  ...  142.84       13\n",
              "...            ...           ...  ...     ...      ...\n",
              "109116      109116        109138  ...  197.99       10\n",
              "109142      109142        109164  ...  401.57        9\n",
              "109172      109172        109194  ...  117.64        3\n",
              "109208      109208        109230  ...  309.60        4\n",
              "109209      109209        109231  ...  155.70        5\n",
              "\n",
              "[10960 rows x 11 columns]"
            ]
          },
          "metadata": {
            "tags": []
          },
          "execution_count": 276
        }
      ]
    },
    {
      "cell_type": "code",
      "metadata": {
        "colab": {
          "base_uri": "https://localhost:8080/"
        },
        "id": "4o2GMdSZn0ju",
        "outputId": "c39f5260-46b7-4bfe-daa6-088db8125990"
      },
      "source": [
        "#grouping data according to 'project_subject_categories' and counting for 'project_is_approved' in these groups\r\n",
        "df3=df3.groupby('project_subject_categories')['project_is_approved'].count()\r\n",
        "df3"
      ],
      "execution_count": 277,
      "outputs": [
        {
          "output_type": "execute_result",
          "data": {
            "text/plain": [
              "project_subject_categories\n",
              "appliedlearning                        494\n",
              "appliedlearning_health_sports           43\n",
              "appliedlearning_history_civics          72\n",
              "appliedlearning_literacy_language      219\n",
              "appliedlearning_math_science           171\n",
              "appliedlearning_music_arts             175\n",
              "appliedlearning_specialneeds           124\n",
              "appliedlearning_warmth_care_hunger       1\n",
              "health_sports                         1137\n",
              "health_sports_appliedlearning            7\n",
              "health_sports_history_civics             9\n",
              "health_sports_literacy_language         12\n",
              "health_sports_math_science              10\n",
              "health_sports_music_arts                22\n",
              "health_sports_specialneeds              67\n",
              "health_sports_warmth_care_hunger         2\n",
              "history_civics                         531\n",
              "history_civics_appliedlearning          11\n",
              "history_civics_health_sports             6\n",
              "history_civics_literacy_language       104\n",
              "history_civics_math_science             20\n",
              "history_civics_music_arts               60\n",
              "history_civics_specialneeds             65\n",
              "literacy_language                     2030\n",
              "literacy_language_appliedlearning       26\n",
              "literacy_language_health_sports          9\n",
              "literacy_language_history_civics        61\n",
              "literacy_language_math_science          85\n",
              "literacy_language_music_arts           189\n",
              "literacy_language_specialneeds         256\n",
              "math_science                          2408\n",
              "math_science_appliedlearning           174\n",
              "math_science_health_sports              62\n",
              "math_science_history_civics             39\n",
              "math_science_literacy_language          76\n",
              "math_science_music_arts                176\n",
              "math_science_specialneeds              208\n",
              "math_science_warmth_care_hunger          2\n",
              "music_arts                            1125\n",
              "music_arts_appliedlearning               1\n",
              "music_arts_health_sports                 6\n",
              "music_arts_history_civics                1\n",
              "music_arts_specialneeds                 19\n",
              "specialneeds                           390\n",
              "specialneeds_health_sports              18\n",
              "specialneeds_music_arts                 49\n",
              "specialneeds_warmth_care_hunger          5\n",
              "warmth_care_hunger                     183\n",
              "Name: project_is_approved, dtype: int64"
            ]
          },
          "metadata": {
            "tags": []
          },
          "execution_count": 277
        }
      ]
    },
    {
      "cell_type": "markdown",
      "metadata": {
        "id": "72KouEJytGft"
      },
      "source": [
        "### **Question 4**"
      ]
    },
    {
      "cell_type": "markdown",
      "metadata": {
        "id": "feJ4LutbG9x8"
      },
      "source": [
        "**Replace teacher_prefix with the average number of approved projects for each teacher prefix**"
      ]
    },
    {
      "cell_type": "code",
      "metadata": {
        "colab": {
          "base_uri": "https://localhost:8080/"
        },
        "id": "TaDtluz1G8_I",
        "outputId": "8f60cac5-ea63-4aa7-a84c-6424e98f3d7f"
      },
      "source": [
        "#creating a data frame grouped by 'teacher_prefix' and calculating the mean of 'teacher_prefix' in these groups\r\n",
        "df4=df.groupby('teacher_prefix')['project_is_approved'].mean()\r\n",
        "\r\n",
        "#converting dataframe to dictionary\r\n",
        "df4=dict(df4)\r\n",
        "\r\n",
        "df4"
      ],
      "execution_count": 278,
      "outputs": [
        {
          "output_type": "execute_result",
          "data": {
            "text/plain": [
              "{'dr': 0.6923076923076923,\n",
              " 'mr': 0.8415218412400188,\n",
              " 'mrs': 0.8555462419670299,\n",
              " 'ms': 0.8435188989317995,\n",
              " 'teacher': 0.7953389830508475}"
            ]
          },
          "metadata": {
            "tags": []
          },
          "execution_count": 278
        }
      ]
    },
    {
      "cell_type": "code",
      "metadata": {
        "id": "aC77_qjOLbq9"
      },
      "source": [
        "#replacing 'teacher_refix' by the mean calculated in the above dataframe\r\n",
        "df['teacher_prefix']=df[\"teacher_prefix\"].apply(lambda x : df4[x])"
      ],
      "execution_count": 279,
      "outputs": []
    },
    {
      "cell_type": "code",
      "metadata": {
        "colab": {
          "base_uri": "https://localhost:8080/",
          "height": 453
        },
        "id": "Ju-v5rSQLutD",
        "outputId": "e36d8a67-9267-4ba0-a40c-77f221d81e54"
      },
      "source": [
        "df"
      ],
      "execution_count": 280,
      "outputs": [
        {
          "output_type": "execute_result",
          "data": {
            "text/html": [
              "<div>\n",
              "<style scoped>\n",
              "    .dataframe tbody tr th:only-of-type {\n",
              "        vertical-align: middle;\n",
              "    }\n",
              "\n",
              "    .dataframe tbody tr th {\n",
              "        vertical-align: top;\n",
              "    }\n",
              "\n",
              "    .dataframe thead th {\n",
              "        text-align: right;\n",
              "    }\n",
              "</style>\n",
              "<table border=\"1\" class=\"dataframe\">\n",
              "  <thead>\n",
              "    <tr style=\"text-align: right;\">\n",
              "      <th></th>\n",
              "      <th>Unnamed: 0</th>\n",
              "      <th>Unnamed: 0.1</th>\n",
              "      <th>school_state</th>\n",
              "      <th>teacher_prefix</th>\n",
              "      <th>project_grade_category</th>\n",
              "      <th>teacher_number_of_previously_posted_projects</th>\n",
              "      <th>project_is_approved</th>\n",
              "      <th>project_subject_categories</th>\n",
              "      <th>project_subject_subcategories</th>\n",
              "      <th>price</th>\n",
              "      <th>quantity</th>\n",
              "    </tr>\n",
              "  </thead>\n",
              "  <tbody>\n",
              "    <tr>\n",
              "      <th>0</th>\n",
              "      <td>0</td>\n",
              "      <td>0</td>\n",
              "      <td>in</td>\n",
              "      <td>0.855546</td>\n",
              "      <td>grades_prek_2</td>\n",
              "      <td>0</td>\n",
              "      <td>0</td>\n",
              "      <td>literacy_language</td>\n",
              "      <td>esl_literacy</td>\n",
              "      <td>154.60</td>\n",
              "      <td>23</td>\n",
              "    </tr>\n",
              "    <tr>\n",
              "      <th>1</th>\n",
              "      <td>1</td>\n",
              "      <td>1</td>\n",
              "      <td>fl</td>\n",
              "      <td>0.841522</td>\n",
              "      <td>grades_6_8</td>\n",
              "      <td>7</td>\n",
              "      <td>1</td>\n",
              "      <td>history_civics_health_sports</td>\n",
              "      <td>civics_government_teamsports</td>\n",
              "      <td>299.00</td>\n",
              "      <td>1</td>\n",
              "    </tr>\n",
              "    <tr>\n",
              "      <th>2</th>\n",
              "      <td>2</td>\n",
              "      <td>2</td>\n",
              "      <td>az</td>\n",
              "      <td>0.843519</td>\n",
              "      <td>grades_6_8</td>\n",
              "      <td>1</td>\n",
              "      <td>0</td>\n",
              "      <td>health_sports</td>\n",
              "      <td>health_wellness_teamsports</td>\n",
              "      <td>516.85</td>\n",
              "      <td>22</td>\n",
              "    </tr>\n",
              "    <tr>\n",
              "      <th>3</th>\n",
              "      <td>3</td>\n",
              "      <td>3</td>\n",
              "      <td>ky</td>\n",
              "      <td>0.855546</td>\n",
              "      <td>grades_prek_2</td>\n",
              "      <td>4</td>\n",
              "      <td>1</td>\n",
              "      <td>literacy_language_math_science</td>\n",
              "      <td>literacy_mathematics</td>\n",
              "      <td>232.90</td>\n",
              "      <td>4</td>\n",
              "    </tr>\n",
              "    <tr>\n",
              "      <th>4</th>\n",
              "      <td>4</td>\n",
              "      <td>4</td>\n",
              "      <td>tx</td>\n",
              "      <td>0.855546</td>\n",
              "      <td>grades_prek_2</td>\n",
              "      <td>1</td>\n",
              "      <td>1</td>\n",
              "      <td>math_science</td>\n",
              "      <td>mathematics</td>\n",
              "      <td>67.98</td>\n",
              "      <td>4</td>\n",
              "    </tr>\n",
              "    <tr>\n",
              "      <th>...</th>\n",
              "      <td>...</td>\n",
              "      <td>...</td>\n",
              "      <td>...</td>\n",
              "      <td>...</td>\n",
              "      <td>...</td>\n",
              "      <td>...</td>\n",
              "      <td>...</td>\n",
              "      <td>...</td>\n",
              "      <td>...</td>\n",
              "      <td>...</td>\n",
              "      <td>...</td>\n",
              "    </tr>\n",
              "    <tr>\n",
              "      <th>109221</th>\n",
              "      <td>109221</td>\n",
              "      <td>109243</td>\n",
              "      <td>mo</td>\n",
              "      <td>0.841522</td>\n",
              "      <td>grades_prek_2</td>\n",
              "      <td>0</td>\n",
              "      <td>1</td>\n",
              "      <td>literacy_language_math_science</td>\n",
              "      <td>literature_writing_mathematics</td>\n",
              "      <td>59.98</td>\n",
              "      <td>8</td>\n",
              "    </tr>\n",
              "    <tr>\n",
              "      <th>109222</th>\n",
              "      <td>109222</td>\n",
              "      <td>109244</td>\n",
              "      <td>nj</td>\n",
              "      <td>0.843519</td>\n",
              "      <td>grades_prek_2</td>\n",
              "      <td>0</td>\n",
              "      <td>1</td>\n",
              "      <td>literacy_language_math_science</td>\n",
              "      <td>literacy_mathematics</td>\n",
              "      <td>846.32</td>\n",
              "      <td>4</td>\n",
              "    </tr>\n",
              "    <tr>\n",
              "      <th>109223</th>\n",
              "      <td>109223</td>\n",
              "      <td>109245</td>\n",
              "      <td>nj</td>\n",
              "      <td>0.855546</td>\n",
              "      <td>grades_prek_2</td>\n",
              "      <td>3</td>\n",
              "      <td>1</td>\n",
              "      <td>literacy_language_math_science</td>\n",
              "      <td>literacy_mathematics</td>\n",
              "      <td>239.96</td>\n",
              "      <td>4</td>\n",
              "    </tr>\n",
              "    <tr>\n",
              "      <th>109224</th>\n",
              "      <td>109224</td>\n",
              "      <td>109246</td>\n",
              "      <td>ny</td>\n",
              "      <td>0.855546</td>\n",
              "      <td>grades_3_5</td>\n",
              "      <td>0</td>\n",
              "      <td>1</td>\n",
              "      <td>health_sports_specialneeds</td>\n",
              "      <td>health_wellness_specialneeds</td>\n",
              "      <td>73.05</td>\n",
              "      <td>16</td>\n",
              "    </tr>\n",
              "    <tr>\n",
              "      <th>109225</th>\n",
              "      <td>109225</td>\n",
              "      <td>109247</td>\n",
              "      <td>va</td>\n",
              "      <td>0.843519</td>\n",
              "      <td>grades_6_8</td>\n",
              "      <td>0</td>\n",
              "      <td>1</td>\n",
              "      <td>appliedlearning_math_science</td>\n",
              "      <td>college_careerprep_mathematics</td>\n",
              "      <td>109.90</td>\n",
              "      <td>5</td>\n",
              "    </tr>\n",
              "  </tbody>\n",
              "</table>\n",
              "<p>109226 rows × 11 columns</p>\n",
              "</div>"
            ],
            "text/plain": [
              "        Unnamed: 0  Unnamed: 0.1  ...   price  quantity\n",
              "0                0             0  ...  154.60        23\n",
              "1                1             1  ...  299.00         1\n",
              "2                2             2  ...  516.85        22\n",
              "3                3             3  ...  232.90         4\n",
              "4                4             4  ...   67.98         4\n",
              "...            ...           ...  ...     ...       ...\n",
              "109221      109221        109243  ...   59.98         8\n",
              "109222      109222        109244  ...  846.32         4\n",
              "109223      109223        109245  ...  239.96         4\n",
              "109224      109224        109246  ...   73.05        16\n",
              "109225      109225        109247  ...  109.90         5\n",
              "\n",
              "[109226 rows x 11 columns]"
            ]
          },
          "metadata": {
            "tags": []
          },
          "execution_count": 280
        }
      ]
    },
    {
      "cell_type": "markdown",
      "metadata": {
        "id": "sdH3sBbJMyTb"
      },
      "source": [
        "### **Question 5**"
      ]
    },
    {
      "cell_type": "markdown",
      "metadata": {
        "id": "aDAIvK-dM45t"
      },
      "source": [
        "**Find the desired output as shown in the image below. Note : Create the data frame (Train Data) as shown in the image below (Output can be in fraction form or decimal form )\r\n",
        "Note: image is available in the questions pdf**"
      ]
    },
    {
      "cell_type": "code",
      "metadata": {
        "colab": {
          "base_uri": "https://localhost:8080/"
        },
        "id": "BdxIKVsdNFB_",
        "outputId": "4c5411c0-26ed-46e9-fcea-60439f3ac7bd"
      },
      "source": [
        "#creating dictionary\r\n",
        "dictionary = {\"State\" : [\"A\", \"B\", \"C\", \"A\", \"A\", \"B\", \"A\", \"A\", \"C\", \"C\"],\r\n",
        "        \"Class\" : [0, 1, 1, 0, 1, 1, 0, 1, 1, 0]\r\n",
        "       }\r\n",
        "dictionary"
      ],
      "execution_count": 281,
      "outputs": [
        {
          "output_type": "execute_result",
          "data": {
            "text/plain": [
              "{'Class': [0, 1, 1, 0, 1, 1, 0, 1, 1, 0],\n",
              " 'State': ['A', 'B', 'C', 'A', 'A', 'B', 'A', 'A', 'C', 'C']}"
            ]
          },
          "metadata": {
            "tags": []
          },
          "execution_count": 281
        }
      ]
    },
    {
      "cell_type": "code",
      "metadata": {
        "colab": {
          "base_uri": "https://localhost:8080/",
          "height": 355
        },
        "id": "XNq7EFB1NgBx",
        "outputId": "ae65ad31-eb8e-4ec6-c1c4-63d7b37cd3fa"
      },
      "source": [
        "#convert dictionary to DataFrame\r\n",
        "df5 = pd.DataFrame(dictionary)\r\n",
        "df5"
      ],
      "execution_count": 282,
      "outputs": [
        {
          "output_type": "execute_result",
          "data": {
            "text/html": [
              "<div>\n",
              "<style scoped>\n",
              "    .dataframe tbody tr th:only-of-type {\n",
              "        vertical-align: middle;\n",
              "    }\n",
              "\n",
              "    .dataframe tbody tr th {\n",
              "        vertical-align: top;\n",
              "    }\n",
              "\n",
              "    .dataframe thead th {\n",
              "        text-align: right;\n",
              "    }\n",
              "</style>\n",
              "<table border=\"1\" class=\"dataframe\">\n",
              "  <thead>\n",
              "    <tr style=\"text-align: right;\">\n",
              "      <th></th>\n",
              "      <th>State</th>\n",
              "      <th>Class</th>\n",
              "    </tr>\n",
              "  </thead>\n",
              "  <tbody>\n",
              "    <tr>\n",
              "      <th>0</th>\n",
              "      <td>A</td>\n",
              "      <td>0</td>\n",
              "    </tr>\n",
              "    <tr>\n",
              "      <th>1</th>\n",
              "      <td>B</td>\n",
              "      <td>1</td>\n",
              "    </tr>\n",
              "    <tr>\n",
              "      <th>2</th>\n",
              "      <td>C</td>\n",
              "      <td>1</td>\n",
              "    </tr>\n",
              "    <tr>\n",
              "      <th>3</th>\n",
              "      <td>A</td>\n",
              "      <td>0</td>\n",
              "    </tr>\n",
              "    <tr>\n",
              "      <th>4</th>\n",
              "      <td>A</td>\n",
              "      <td>1</td>\n",
              "    </tr>\n",
              "    <tr>\n",
              "      <th>5</th>\n",
              "      <td>B</td>\n",
              "      <td>1</td>\n",
              "    </tr>\n",
              "    <tr>\n",
              "      <th>6</th>\n",
              "      <td>A</td>\n",
              "      <td>0</td>\n",
              "    </tr>\n",
              "    <tr>\n",
              "      <th>7</th>\n",
              "      <td>A</td>\n",
              "      <td>1</td>\n",
              "    </tr>\n",
              "    <tr>\n",
              "      <th>8</th>\n",
              "      <td>C</td>\n",
              "      <td>1</td>\n",
              "    </tr>\n",
              "    <tr>\n",
              "      <th>9</th>\n",
              "      <td>C</td>\n",
              "      <td>0</td>\n",
              "    </tr>\n",
              "  </tbody>\n",
              "</table>\n",
              "</div>"
            ],
            "text/plain": [
              "  State  Class\n",
              "0     A      0\n",
              "1     B      1\n",
              "2     C      1\n",
              "3     A      0\n",
              "4     A      1\n",
              "5     B      1\n",
              "6     A      0\n",
              "7     A      1\n",
              "8     C      1\n",
              "9     C      0"
            ]
          },
          "metadata": {
            "tags": []
          },
          "execution_count": 282
        }
      ]
    },
    {
      "cell_type": "code",
      "metadata": {
        "colab": {
          "base_uri": "https://localhost:8080/"
        },
        "id": "zkYWXhBBN1tu",
        "outputId": "31390bfb-033d-4f54-9e10-3f99eda95439"
      },
      "source": [
        "#no. of Class=1 for each state \r\n",
        "totalClass1 = dict(df5.groupby(\"State\")[\"Class\"].sum()) #sum will return for state=1 as for state=0 only 0 will be added\r\n",
        "totalClass1\r\n"
      ],
      "execution_count": 283,
      "outputs": [
        {
          "output_type": "execute_result",
          "data": {
            "text/plain": [
              "{'A': 2, 'B': 2, 'C': 2}"
            ]
          },
          "metadata": {
            "tags": []
          },
          "execution_count": 283
        }
      ]
    },
    {
      "cell_type": "code",
      "metadata": {
        "colab": {
          "base_uri": "https://localhost:8080/"
        },
        "id": "8QRnC46KOZyb",
        "outputId": "d32e24f8-0ef0-43f2-a399-1081e97c7a6d"
      },
      "source": [
        "#no. of Classes for each state\r\n",
        "totalClass = dict(df5.groupby(\"State\")[\"Class\"].count())\r\n",
        "totalClass"
      ],
      "execution_count": 284,
      "outputs": [
        {
          "output_type": "execute_result",
          "data": {
            "text/plain": [
              "{'A': 5, 'B': 2, 'C': 3}"
            ]
          },
          "metadata": {
            "tags": []
          },
          "execution_count": 284
        }
      ]
    },
    {
      "cell_type": "code",
      "metadata": {
        "colab": {
          "base_uri": "https://localhost:8080/"
        },
        "id": "PCF3r2yRQzUi",
        "outputId": "cf64b010-ce3c-4043-a3bb-53d4e8a98c04"
      },
      "source": [
        "#no. of Class=0 for each state\r\n",
        "totalClass0 = dict(df5.groupby(\"State\")[\"Class\"].count()-df5.groupby(\"State\")[\"Class\"].sum())\r\n",
        "totalClass0"
      ],
      "execution_count": 285,
      "outputs": [
        {
          "output_type": "execute_result",
          "data": {
            "text/plain": [
              "{'A': 3, 'B': 0, 'C': 1}"
            ]
          },
          "metadata": {
            "tags": []
          },
          "execution_count": 285
        }
      ]
    },
    {
      "cell_type": "code",
      "metadata": {
        "colab": {
          "base_uri": "https://localhost:8080/"
        },
        "id": "ouZ6K4w2Oew3",
        "outputId": "3999c159-a3f8-4a02-81c7-0da29a265d6c"
      },
      "source": [
        "#making a dictionary by combining values of dictionary totalClass0, totalClass1 according to keys\r\n",
        "combinedDict={}\r\n",
        "di=[totalClass0, totalClass1]\r\n",
        "for key in totalClass0.keys():\r\n",
        "  combinedDict[key]=list(combinedDict[key] for combinedDict in di)\r\n",
        "\r\n",
        "combinedDict"
      ],
      "execution_count": 286,
      "outputs": [
        {
          "output_type": "execute_result",
          "data": {
            "text/plain": [
              "{'A': [3, 2], 'B': [0, 2], 'C': [1, 2]}"
            ]
          },
          "metadata": {
            "tags": []
          },
          "execution_count": 286
        }
      ]
    },
    {
      "cell_type": "code",
      "metadata": {
        "colab": {
          "base_uri": "https://localhost:8080/",
          "height": 171
        },
        "id": "AST5IezLUWqr",
        "outputId": "7f148f36-e749-4dd5-fa1f-8a40db166656"
      },
      "source": [
        "#Converting the dictionary combinedDict to dataframe and naming the dataframe index as State and columns as Class=0 , Class=1\r\n",
        "df7 = pd.DataFrame.from_dict(combinedDict,orient='index',columns=['Class = 0','Class = 1'])\r\n",
        "#df7.index.name='STATE'\r\n",
        "df7.index.rename(\"STATE\",inplace=True)\r\n",
        "df7"
      ],
      "execution_count": 287,
      "outputs": [
        {
          "output_type": "execute_result",
          "data": {
            "text/html": [
              "<div>\n",
              "<style scoped>\n",
              "    .dataframe tbody tr th:only-of-type {\n",
              "        vertical-align: middle;\n",
              "    }\n",
              "\n",
              "    .dataframe tbody tr th {\n",
              "        vertical-align: top;\n",
              "    }\n",
              "\n",
              "    .dataframe thead th {\n",
              "        text-align: right;\n",
              "    }\n",
              "</style>\n",
              "<table border=\"1\" class=\"dataframe\">\n",
              "  <thead>\n",
              "    <tr style=\"text-align: right;\">\n",
              "      <th></th>\n",
              "      <th>Class = 0</th>\n",
              "      <th>Class = 1</th>\n",
              "    </tr>\n",
              "    <tr>\n",
              "      <th>STATE</th>\n",
              "      <th></th>\n",
              "      <th></th>\n",
              "    </tr>\n",
              "  </thead>\n",
              "  <tbody>\n",
              "    <tr>\n",
              "      <th>A</th>\n",
              "      <td>3</td>\n",
              "      <td>2</td>\n",
              "    </tr>\n",
              "    <tr>\n",
              "      <th>B</th>\n",
              "      <td>0</td>\n",
              "      <td>2</td>\n",
              "    </tr>\n",
              "    <tr>\n",
              "      <th>C</th>\n",
              "      <td>1</td>\n",
              "      <td>2</td>\n",
              "    </tr>\n",
              "  </tbody>\n",
              "</table>\n",
              "</div>"
            ],
            "text/plain": [
              "       Class = 0  Class = 1\n",
              "STATE                      \n",
              "A              3          2\n",
              "B              0          2\n",
              "C              1          2"
            ]
          },
          "metadata": {
            "tags": []
          },
          "execution_count": 287
        }
      ]
    },
    {
      "cell_type": "code",
      "metadata": {
        "colab": {
          "base_uri": "https://localhost:8080/",
          "height": 355
        },
        "id": "cMNrFHkMhsCk",
        "outputId": "c40100d7-0ea9-4fa2-83c7-3af997a2e623"
      },
      "source": [
        "df5"
      ],
      "execution_count": 288,
      "outputs": [
        {
          "output_type": "execute_result",
          "data": {
            "text/html": [
              "<div>\n",
              "<style scoped>\n",
              "    .dataframe tbody tr th:only-of-type {\n",
              "        vertical-align: middle;\n",
              "    }\n",
              "\n",
              "    .dataframe tbody tr th {\n",
              "        vertical-align: top;\n",
              "    }\n",
              "\n",
              "    .dataframe thead th {\n",
              "        text-align: right;\n",
              "    }\n",
              "</style>\n",
              "<table border=\"1\" class=\"dataframe\">\n",
              "  <thead>\n",
              "    <tr style=\"text-align: right;\">\n",
              "      <th></th>\n",
              "      <th>State</th>\n",
              "      <th>Class</th>\n",
              "    </tr>\n",
              "  </thead>\n",
              "  <tbody>\n",
              "    <tr>\n",
              "      <th>0</th>\n",
              "      <td>A</td>\n",
              "      <td>0</td>\n",
              "    </tr>\n",
              "    <tr>\n",
              "      <th>1</th>\n",
              "      <td>B</td>\n",
              "      <td>1</td>\n",
              "    </tr>\n",
              "    <tr>\n",
              "      <th>2</th>\n",
              "      <td>C</td>\n",
              "      <td>1</td>\n",
              "    </tr>\n",
              "    <tr>\n",
              "      <th>3</th>\n",
              "      <td>A</td>\n",
              "      <td>0</td>\n",
              "    </tr>\n",
              "    <tr>\n",
              "      <th>4</th>\n",
              "      <td>A</td>\n",
              "      <td>1</td>\n",
              "    </tr>\n",
              "    <tr>\n",
              "      <th>5</th>\n",
              "      <td>B</td>\n",
              "      <td>1</td>\n",
              "    </tr>\n",
              "    <tr>\n",
              "      <th>6</th>\n",
              "      <td>A</td>\n",
              "      <td>0</td>\n",
              "    </tr>\n",
              "    <tr>\n",
              "      <th>7</th>\n",
              "      <td>A</td>\n",
              "      <td>1</td>\n",
              "    </tr>\n",
              "    <tr>\n",
              "      <th>8</th>\n",
              "      <td>C</td>\n",
              "      <td>1</td>\n",
              "    </tr>\n",
              "    <tr>\n",
              "      <th>9</th>\n",
              "      <td>C</td>\n",
              "      <td>0</td>\n",
              "    </tr>\n",
              "  </tbody>\n",
              "</table>\n",
              "</div>"
            ],
            "text/plain": [
              "  State  Class\n",
              "0     A      0\n",
              "1     B      1\n",
              "2     C      1\n",
              "3     A      0\n",
              "4     A      1\n",
              "5     B      1\n",
              "6     A      0\n",
              "7     A      1\n",
              "8     C      1\n",
              "9     C      0"
            ]
          },
          "metadata": {
            "tags": []
          },
          "execution_count": 288
        }
      ]
    },
    {
      "cell_type": "code",
      "metadata": {
        "colab": {
          "base_uri": "https://localhost:8080/",
          "height": 355
        },
        "id": "cJIOd1K4g4mF",
        "outputId": "218d3110-9c86-47ff-8516-b9cb4cc70184"
      },
      "source": [
        "#creating the final DataFrame\r\n",
        "df5[\"State 0\"] = df5[\"State\"].apply(lambda x : str(totalClass0[x]) + \"/\" + str(totalClass[x]))\r\n",
        "df5[\"State 1\"] = df5[\"State\"].apply(lambda x : str(totalClass1[x]) + \"/\" + str(totalClass[x]))\r\n",
        "\r\n",
        "df5"
      ],
      "execution_count": 289,
      "outputs": [
        {
          "output_type": "execute_result",
          "data": {
            "text/html": [
              "<div>\n",
              "<style scoped>\n",
              "    .dataframe tbody tr th:only-of-type {\n",
              "        vertical-align: middle;\n",
              "    }\n",
              "\n",
              "    .dataframe tbody tr th {\n",
              "        vertical-align: top;\n",
              "    }\n",
              "\n",
              "    .dataframe thead th {\n",
              "        text-align: right;\n",
              "    }\n",
              "</style>\n",
              "<table border=\"1\" class=\"dataframe\">\n",
              "  <thead>\n",
              "    <tr style=\"text-align: right;\">\n",
              "      <th></th>\n",
              "      <th>State</th>\n",
              "      <th>Class</th>\n",
              "      <th>State 0</th>\n",
              "      <th>State 1</th>\n",
              "    </tr>\n",
              "  </thead>\n",
              "  <tbody>\n",
              "    <tr>\n",
              "      <th>0</th>\n",
              "      <td>A</td>\n",
              "      <td>0</td>\n",
              "      <td>3/5</td>\n",
              "      <td>2/5</td>\n",
              "    </tr>\n",
              "    <tr>\n",
              "      <th>1</th>\n",
              "      <td>B</td>\n",
              "      <td>1</td>\n",
              "      <td>0/2</td>\n",
              "      <td>2/2</td>\n",
              "    </tr>\n",
              "    <tr>\n",
              "      <th>2</th>\n",
              "      <td>C</td>\n",
              "      <td>1</td>\n",
              "      <td>1/3</td>\n",
              "      <td>2/3</td>\n",
              "    </tr>\n",
              "    <tr>\n",
              "      <th>3</th>\n",
              "      <td>A</td>\n",
              "      <td>0</td>\n",
              "      <td>3/5</td>\n",
              "      <td>2/5</td>\n",
              "    </tr>\n",
              "    <tr>\n",
              "      <th>4</th>\n",
              "      <td>A</td>\n",
              "      <td>1</td>\n",
              "      <td>3/5</td>\n",
              "      <td>2/5</td>\n",
              "    </tr>\n",
              "    <tr>\n",
              "      <th>5</th>\n",
              "      <td>B</td>\n",
              "      <td>1</td>\n",
              "      <td>0/2</td>\n",
              "      <td>2/2</td>\n",
              "    </tr>\n",
              "    <tr>\n",
              "      <th>6</th>\n",
              "      <td>A</td>\n",
              "      <td>0</td>\n",
              "      <td>3/5</td>\n",
              "      <td>2/5</td>\n",
              "    </tr>\n",
              "    <tr>\n",
              "      <th>7</th>\n",
              "      <td>A</td>\n",
              "      <td>1</td>\n",
              "      <td>3/5</td>\n",
              "      <td>2/5</td>\n",
              "    </tr>\n",
              "    <tr>\n",
              "      <th>8</th>\n",
              "      <td>C</td>\n",
              "      <td>1</td>\n",
              "      <td>1/3</td>\n",
              "      <td>2/3</td>\n",
              "    </tr>\n",
              "    <tr>\n",
              "      <th>9</th>\n",
              "      <td>C</td>\n",
              "      <td>0</td>\n",
              "      <td>1/3</td>\n",
              "      <td>2/3</td>\n",
              "    </tr>\n",
              "  </tbody>\n",
              "</table>\n",
              "</div>"
            ],
            "text/plain": [
              "  State  Class State 0 State 1\n",
              "0     A      0     3/5     2/5\n",
              "1     B      1     0/2     2/2\n",
              "2     C      1     1/3     2/3\n",
              "3     A      0     3/5     2/5\n",
              "4     A      1     3/5     2/5\n",
              "5     B      1     0/2     2/2\n",
              "6     A      0     3/5     2/5\n",
              "7     A      1     3/5     2/5\n",
              "8     C      1     1/3     2/3\n",
              "9     C      0     1/3     2/3"
            ]
          },
          "metadata": {
            "tags": []
          },
          "execution_count": 289
        }
      ]
    }
  ]
}