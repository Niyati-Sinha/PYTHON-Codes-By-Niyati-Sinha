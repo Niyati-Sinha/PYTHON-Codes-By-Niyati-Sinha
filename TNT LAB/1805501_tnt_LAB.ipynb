{
  "nbformat": 4,
  "nbformat_minor": 0,
  "metadata": {
    "kernelspec": {
      "display_name": "Python 3",
      "language": "python",
      "name": "python3"
    },
    "language_info": {
      "codemirror_mode": {
        "name": "ipython",
        "version": 3
      },
      "file_extension": ".py",
      "mimetype": "text/x-python",
      "name": "python",
      "nbconvert_exporter": "python",
      "pygments_lexer": "ipython3",
      "version": "3.7.1"
    },
    "colab": {
      "name": "1805501 tnt LAB.ipynb",
      "provenance": [],
      "include_colab_link": true
    }
  },
  "cells": [
    {
      "cell_type": "markdown",
      "metadata": {
        "id": "view-in-github",
        "colab_type": "text"
      },
      "source": [
        "<a href=\"https://colab.research.google.com/github/Niyati-Sinha/PYTHON-Codes-By-Niyati-Sinha/blob/master/TNT%20LAB/1805501_tnt_LAB.ipynb\" target=\"_parent\"><img src=\"https://colab.research.google.com/assets/colab-badge.svg\" alt=\"Open In Colab\"/></a>"
      ]
    },
    {
      "cell_type": "markdown",
      "metadata": {
        "id": "EltuDqoB7ddY"
      },
      "source": [
        "##1805501 \n",
        "#Niyati Sinha"
      ]
    },
    {
      "cell_type": "markdown",
      "metadata": {
        "id": "hfekZiJm9Bum"
      },
      "source": [
        "Q1 CREATE PANDAS COLUMN USING LOOP"
      ]
    },
    {
      "cell_type": "code",
      "metadata": {
        "colab": {
          "base_uri": "https://localhost:8080/"
        },
        "id": "FRu9EheN61BK",
        "outputId": "cb849f98-58e6-4cb0-a0d5-30114ceda2b0"
      },
      "source": [
        "# importing pandas \n",
        "import pandas as pd \n",
        "\n",
        "# Creating new dataframe \n",
        "initial_data = {'First_name': ['Niyati', 'Mohan', 'Tina', 'Jeetu', 'Meera'], \n",
        "\t\t\t\t'Last_name': ['Sinha', 'Sharma', 'Ali', 'Gandhi', 'Kumari'], \n",
        "\t\t\t\t'Marks': [12, 52, 36, 85, 23] } \n",
        "\n",
        "df = pd.DataFrame(initial_data, columns = ['First_name', 'Last_name', 'Marks']) \n",
        "\n",
        "# Generate result using pandas \n",
        "result = [] \n",
        "for value in df[\"Marks\"]: \n",
        "\tif value >= 33: \n",
        "\t\tresult.append(\"Pass\") \n",
        "\telif value < 0 and value > 100: \n",
        "\t\tresult.append(\"Invalid\") \n",
        "\telse: \n",
        "\t\tresult.append(\"Fail\") \n",
        "\t\n",
        "df[\"Result\"] = result \n",
        "print(df) \n"
      ],
      "execution_count": null,
      "outputs": [
        {
          "output_type": "stream",
          "text": [
            "  First_name Last_name  Marks Result\n",
            "0     Niyati     Sinha     12   Fail\n",
            "1      Mohan    Sharma     52   Pass\n",
            "2       Tina       Ali     36   Pass\n",
            "3      Jeetu    Gandhi     85   Pass\n",
            "4      Meera    Kumari     23   Fail\n"
          ],
          "name": "stdout"
        }
      ]
    },
    {
      "cell_type": "markdown",
      "metadata": {
        "id": "igNAjSL29QGf"
      },
      "source": [
        "Q2 GET COLUMN NAMES"
      ]
    },
    {
      "cell_type": "code",
      "metadata": {
        "colab": {
          "base_uri": "https://localhost:8080/",
          "height": 202
        },
        "id": "CA-BbLrF61BR",
        "outputId": "0659d3c6-d7ca-47a9-ea6f-d12b026abff2"
      },
      "source": [
        "# Import pandas package \n",
        "import pandas as pd \n",
        "\t\n",
        "# making data frame \n",
        "data = pd.read_csv(\"Iris.csv\") \n",
        "\t\n",
        "# calling head() method \n",
        "# storing in new variable \n",
        "data_top = data.head() \n",
        "\t\n",
        "# display \n",
        "data_top \n"
      ],
      "execution_count": null,
      "outputs": [
        {
          "output_type": "execute_result",
          "data": {
            "text/html": [
              "<div>\n",
              "<style scoped>\n",
              "    .dataframe tbody tr th:only-of-type {\n",
              "        vertical-align: middle;\n",
              "    }\n",
              "\n",
              "    .dataframe tbody tr th {\n",
              "        vertical-align: top;\n",
              "    }\n",
              "\n",
              "    .dataframe thead th {\n",
              "        text-align: right;\n",
              "    }\n",
              "</style>\n",
              "<table border=\"1\" class=\"dataframe\">\n",
              "  <thead>\n",
              "    <tr style=\"text-align: right;\">\n",
              "      <th></th>\n",
              "      <th>Id</th>\n",
              "      <th>SepalLengthCm</th>\n",
              "      <th>SepalWidthCm</th>\n",
              "      <th>PetalLengthCm</th>\n",
              "      <th>PetalWidthCm</th>\n",
              "      <th>Species</th>\n",
              "    </tr>\n",
              "  </thead>\n",
              "  <tbody>\n",
              "    <tr>\n",
              "      <th>0</th>\n",
              "      <td>1</td>\n",
              "      <td>5.1</td>\n",
              "      <td>3.5</td>\n",
              "      <td>1.4</td>\n",
              "      <td>0.2</td>\n",
              "      <td>Iris-setosa</td>\n",
              "    </tr>\n",
              "    <tr>\n",
              "      <th>1</th>\n",
              "      <td>2</td>\n",
              "      <td>4.9</td>\n",
              "      <td>3.0</td>\n",
              "      <td>1.4</td>\n",
              "      <td>0.2</td>\n",
              "      <td>Iris-setosa</td>\n",
              "    </tr>\n",
              "    <tr>\n",
              "      <th>2</th>\n",
              "      <td>3</td>\n",
              "      <td>4.7</td>\n",
              "      <td>3.2</td>\n",
              "      <td>1.3</td>\n",
              "      <td>0.2</td>\n",
              "      <td>Iris-setosa</td>\n",
              "    </tr>\n",
              "    <tr>\n",
              "      <th>3</th>\n",
              "      <td>4</td>\n",
              "      <td>4.6</td>\n",
              "      <td>3.1</td>\n",
              "      <td>1.5</td>\n",
              "      <td>0.2</td>\n",
              "      <td>Iris-setosa</td>\n",
              "    </tr>\n",
              "    <tr>\n",
              "      <th>4</th>\n",
              "      <td>5</td>\n",
              "      <td>5.0</td>\n",
              "      <td>3.6</td>\n",
              "      <td>1.4</td>\n",
              "      <td>0.2</td>\n",
              "      <td>Iris-setosa</td>\n",
              "    </tr>\n",
              "  </tbody>\n",
              "</table>\n",
              "</div>"
            ],
            "text/plain": [
              "   Id  SepalLengthCm  SepalWidthCm  PetalLengthCm  PetalWidthCm      Species\n",
              "0   1            5.1           3.5            1.4           0.2  Iris-setosa\n",
              "1   2            4.9           3.0            1.4           0.2  Iris-setosa\n",
              "2   3            4.7           3.2            1.3           0.2  Iris-setosa\n",
              "3   4            4.6           3.1            1.5           0.2  Iris-setosa\n",
              "4   5            5.0           3.6            1.4           0.2  Iris-setosa"
            ]
          },
          "metadata": {
            "tags": []
          },
          "execution_count": 2
        }
      ]
    },
    {
      "cell_type": "markdown",
      "metadata": {
        "id": "SNmbeKOe9UkM"
      },
      "source": [
        "Q3 RENAMING COLUMN"
      ]
    },
    {
      "cell_type": "code",
      "metadata": {
        "colab": {
          "base_uri": "https://localhost:8080/"
        },
        "id": "3BXu5kbI61BS",
        "outputId": "f028f7a5-879e-4153-f0d8-083453587c9f"
      },
      "source": [
        "# Import pandas package \n",
        "import pandas as pd \n",
        "\n",
        "# Define a dictionary containing ICC rankings \n",
        "rankings = {'test': ['India', 'South Africa', 'England', \n",
        "\t\t\t\t\t\t\t'New Zealand', 'Australia'], \n",
        "\t\t\t'odi': ['England', 'India', 'New Zealand', \n",
        "\t\t\t\t\t\t\t'South Africa', 'Pakistan'], \n",
        "\t\t\t't20': ['Pakistan', 'India', 'Australia', \n",
        "\t\t\t\t\t\t\t'England', 'New Zealand']} \n",
        "\n",
        "# Convert the dictionary into DataFrame \n",
        "rankings_pd = pd.DataFrame(rankings) \n",
        "\n",
        "# Before renaming the columns \n",
        "print(rankings_pd.columns) \n",
        "\n",
        "rankings_pd.rename(columns = {'test':'TEST', 'odi':'ODI', \n",
        "\t\t\t\t\t\t\t't20':'T20'}, inplace = True) \n",
        "\n",
        "# After renaming the columns \n",
        "print(rankings_pd.columns) \n"
      ],
      "execution_count": null,
      "outputs": [
        {
          "output_type": "stream",
          "text": [
            "Index(['test', 'odi', 't20'], dtype='object')\n",
            "Index(['TEST', 'ODI', 'T20'], dtype='object')\n"
          ],
          "name": "stdout"
        }
      ]
    },
    {
      "cell_type": "markdown",
      "metadata": {
        "id": "Q5tGDhr69byc"
      },
      "source": [
        "Q4 COLLAPSING MULTIPLE COLUMNS"
      ]
    },
    {
      "cell_type": "code",
      "metadata": {
        "colab": {
          "base_uri": "https://localhost:8080/",
          "height": 141
        },
        "id": "bXKOoUVc61BS",
        "outputId": "c6124fd6-9e0f-41e3-97a9-0125c898d914"
      },
      "source": [
        "# Python program to collapse \n",
        "# multiple Columns using Pandas \n",
        "import pandas as pd \n",
        "\n",
        "# sample data \n",
        "n = 3\n",
        "Sample_1 = [57, 51, 6] \n",
        "Sample_2 = [92, 16, 19] \n",
        "Sample_3 = [15, 93, 71] \n",
        "Sample_4 = [28, 73, 31] \n",
        "\n",
        "sample_id = zip([\"S\"]*n, list(range(1, n + 1))) \n",
        "\n",
        "s_names = [''.join([w[0], str(w[1])]) for w in sample_id] \n",
        "\n",
        "d = {'s_names': s_names, 'Sample_1': Sample_1, \n",
        "\t'Sample_2': Sample_2, 'Sample_3': Sample_3, \n",
        "\t'Sample_4': Sample_4} \n",
        "\n",
        "df_1 = pd.DataFrame(d) \n",
        "\n",
        "mapping = {'Sample_1': 'Result_1', \n",
        "\t\t'Sample_2': 'Result_1', \n",
        "\t\t'Sample_3': 'Result_2', \n",
        "\t\t'Sample_4': 'Result_2'} \n",
        "\n",
        "df = df_1.set_index('s_names').groupby(mapping, axis = 1).sum() \n",
        "\n",
        "df.reset_index(level = 0) \n"
      ],
      "execution_count": null,
      "outputs": [
        {
          "output_type": "execute_result",
          "data": {
            "text/html": [
              "<div>\n",
              "<style scoped>\n",
              "    .dataframe tbody tr th:only-of-type {\n",
              "        vertical-align: middle;\n",
              "    }\n",
              "\n",
              "    .dataframe tbody tr th {\n",
              "        vertical-align: top;\n",
              "    }\n",
              "\n",
              "    .dataframe thead th {\n",
              "        text-align: right;\n",
              "    }\n",
              "</style>\n",
              "<table border=\"1\" class=\"dataframe\">\n",
              "  <thead>\n",
              "    <tr style=\"text-align: right;\">\n",
              "      <th></th>\n",
              "      <th>s_names</th>\n",
              "      <th>Result_1</th>\n",
              "      <th>Result_2</th>\n",
              "    </tr>\n",
              "  </thead>\n",
              "  <tbody>\n",
              "    <tr>\n",
              "      <th>0</th>\n",
              "      <td>S1</td>\n",
              "      <td>149</td>\n",
              "      <td>43</td>\n",
              "    </tr>\n",
              "    <tr>\n",
              "      <th>1</th>\n",
              "      <td>S2</td>\n",
              "      <td>67</td>\n",
              "      <td>166</td>\n",
              "    </tr>\n",
              "    <tr>\n",
              "      <th>2</th>\n",
              "      <td>S3</td>\n",
              "      <td>25</td>\n",
              "      <td>102</td>\n",
              "    </tr>\n",
              "  </tbody>\n",
              "</table>\n",
              "</div>"
            ],
            "text/plain": [
              "  s_names  Result_1  Result_2\n",
              "0      S1       149        43\n",
              "1      S2        67       166\n",
              "2      S3        25       102"
            ]
          },
          "metadata": {
            "tags": []
          },
          "execution_count": 4
        }
      ]
    },
    {
      "cell_type": "markdown",
      "metadata": {
        "id": "L5X4x-Nc9mAm"
      },
      "source": [
        "Q5 UNIQUE COLUMNS"
      ]
    },
    {
      "cell_type": "code",
      "metadata": {
        "colab": {
          "base_uri": "https://localhost:8080/"
        },
        "id": "3usIDQSP61BT",
        "outputId": "8ab62d2a-4ad3-4a00-88db-4c0143d07dc3"
      },
      "source": [
        "# Import pandas package \n",
        "import pandas as pd \n",
        "\n",
        "# create a dictionary with five fields each \n",
        "data = { \n",
        "\t'A':['A1', 'A2', 'A3', 'A4', 'A5'], \n",
        "\t'B':['B1', 'B2', 'B3', 'B4', 'B4'], \n",
        "\t'C':['C1', 'C2', 'C3', 'C3', 'C3'], \n",
        "\t'D':['D1', 'D2', 'D2', 'D2', 'D2'], \n",
        "\t'E':['E1', 'E1', 'E1', 'E1', 'E1'] } \n",
        "\n",
        "# Convert the dictionary into DataFrame \n",
        "df = pd.DataFrame(data) \n",
        "\n",
        "# Get the unique values of 'B' column \n",
        "df.B.unique() \n"
      ],
      "execution_count": null,
      "outputs": [
        {
          "output_type": "execute_result",
          "data": {
            "text/plain": [
              "array(['B1', 'B2', 'B3', 'B4'], dtype=object)"
            ]
          },
          "metadata": {
            "tags": []
          },
          "execution_count": 5
        }
      ]
    },
    {
      "cell_type": "markdown",
      "metadata": {
        "id": "DOfs5x7--LcE"
      },
      "source": [
        "Q6 CONDITIONAL OPERATION"
      ]
    },
    {
      "cell_type": "code",
      "metadata": {
        "colab": {
          "base_uri": "https://localhost:8080/"
        },
        "id": "SVm08QPT61BT",
        "outputId": "513bffb1-7614-4c9b-ee18-e33ceabcdcc9"
      },
      "source": [
        "# importing pandas as pd \n",
        "import pandas as pd \n",
        "\n",
        "# Create the dataframe \n",
        "df = pd.DataFrame({'Date':['10/2/2011', '11/2/2011', '12/2/2011', '13/2/2011'], \n",
        "\t\t\t\t'Product':['Umbrella', 'Matress', 'Badminton', 'Shuttle'], \n",
        "\t\t\t\t'Last Price':[1200, 1500, 1600, 352], \n",
        "\t\t\t\t'Updated Price':[1250, 1450, 1550, 400], \n",
        "\t\t\t\t'Discount':[10, 10, 10, 10]}) \n",
        "\n",
        "# Print the dataframe \n",
        "print(df) \n",
        "\n",
        "# Check if the updated price is available or not \n",
        "if 'Updated Price' in df.columns: \n",
        "\tdf['Final cost'] = df['Updated Price'] - (df['Updated Price']*0.1) \n",
        "\n",
        "else : \n",
        "\tdf['Final cost'] = df['Last Price'] - (df['Last Price']*0.1) \n",
        "\n",
        "# Print the Dataframe \n",
        "print(df) \n"
      ],
      "execution_count": null,
      "outputs": [
        {
          "output_type": "stream",
          "text": [
            "        Date    Product  Last Price  Updated Price  Discount\n",
            "0  10/2/2011   Umbrella        1200           1250        10\n",
            "1  11/2/2011    Matress        1500           1450        10\n",
            "2  12/2/2011  Badminton        1600           1550        10\n",
            "3  13/2/2011    Shuttle         352            400        10\n",
            "        Date    Product  Last Price  Updated Price  Discount  Final cost\n",
            "0  10/2/2011   Umbrella        1200           1250        10      1125.0\n",
            "1  11/2/2011    Matress        1500           1450        10      1305.0\n",
            "2  12/2/2011  Badminton        1600           1550        10      1395.0\n",
            "3  13/2/2011    Shuttle         352            400        10       360.0\n"
          ],
          "name": "stdout"
        }
      ]
    },
    {
      "cell_type": "markdown",
      "metadata": {
        "id": "X9xhmfc7-R12"
      },
      "source": [
        "Q7 RETURNING INDEX"
      ]
    },
    {
      "cell_type": "code",
      "metadata": {
        "colab": {
          "base_uri": "https://localhost:8080/"
        },
        "id": "WmfxX5jk61BT",
        "outputId": "565b2f41-1abc-4ea4-bf23-e15006f8c51f"
      },
      "source": [
        "# importing pandas as pd\n",
        "import pandas as pd\n",
        "\n",
        "# Create the dataframe\n",
        "df = pd.DataFrame({'Date':['10/2/2011', '11/2/2011', '12/2/2011', '13/2/2011'],\n",
        "\t\t\t\t'Product':['Umbrella', 'Matress', 'Badminton', 'Shuttle'],\n",
        "\t\t\t\t'Last_Price':[1200, 1500, 1600, 352],\n",
        "\t\t\t\t'Updated_Price':[1250, 1450, 1550, 400],\n",
        "\t\t\t\t'Discount':[10, 10, 10, 10]})\n",
        "\n",
        "# Create the indexes\n",
        "df.index =['Item 1', 'Item 2', 'Item 3', 'Item 4']\n",
        "\n",
        "# Print the dataframe\n",
        "print(df)\n",
        "\n",
        "# Select all the rows which satisfies the criteria\n",
        "# convert the collection of index labels to list.\n",
        "Index_label = df[df['Updated_Price']>1000].index.tolist()\n",
        "\n",
        "# Print all the labels\n",
        "print(Index_label)\n"
      ],
      "execution_count": null,
      "outputs": [
        {
          "output_type": "stream",
          "text": [
            "             Date    Product  Last_Price  Updated_Price  Discount\n",
            "Item 1  10/2/2011   Umbrella        1200           1250        10\n",
            "Item 2  11/2/2011    Matress        1500           1450        10\n",
            "Item 3  12/2/2011  Badminton        1600           1550        10\n",
            "Item 4  13/2/2011    Shuttle         352            400        10\n",
            "['Item 1', 'Item 2', 'Item 3']\n"
          ],
          "name": "stdout"
        }
      ]
    },
    {
      "cell_type": "markdown",
      "metadata": {
        "id": "CBjQINgI-YEo"
      },
      "source": [
        "Q8 FORMATTING INTEGER COLUMNS"
      ]
    },
    {
      "cell_type": "code",
      "metadata": {
        "colab": {
          "base_uri": "https://localhost:8080/"
        },
        "id": "AmWtGTM961BU",
        "outputId": "48c365e3-b142-4bff-fb55-6b4018df5939"
      },
      "source": [
        "# import pandas lib as pd\n",
        "import pandas as pd\n",
        "\n",
        "# create the data dictionary\n",
        "data = {'Month' : ['January', 'February', 'March', 'April'],\n",
        "\t'Expense': [ 21525220.653, 31125840.875, 23135428.768, 56245263.942]}\n",
        "\n",
        "# create the dataframe\n",
        "dataframe = pd.DataFrame(data, columns = ['Month', 'Expense'])\n",
        "\n",
        "print(\"Given Dataframe :\\n\", dataframe)\n",
        "\n",
        "# round to two decimal places in python pandas\n",
        "pd.options.display.float_format = '{:2f}'.format\n",
        "\n",
        "print('\\nResult :\\n', dataframe)\n"
      ],
      "execution_count": null,
      "outputs": [
        {
          "output_type": "stream",
          "text": [
            "Given Dataframe :\n",
            "       Month       Expense\n",
            "0   January  2.152522e+07\n",
            "1  February  3.112584e+07\n",
            "2     March  2.313543e+07\n",
            "3     April  5.624526e+07\n",
            "\n",
            "Result :\n",
            "       Month         Expense\n",
            "0   January 21525220.653000\n",
            "1  February 31125840.875000\n",
            "2     March 23135428.768000\n",
            "3     April 56245263.942000\n"
          ],
          "name": "stdout"
        }
      ]
    },
    {
      "cell_type": "markdown",
      "metadata": {
        "id": "dEQ9o2cABPo7"
      },
      "source": [
        "Q9 Creating a new column in Pandas based on existing column"
      ]
    },
    {
      "cell_type": "code",
      "metadata": {
        "colab": {
          "base_uri": "https://localhost:8080/"
        },
        "id": "9Z7qlKnp61BU",
        "outputId": "0210be7b-7dd0-482d-9c36-3959b7a9a902"
      },
      "source": [
        "# importing pandas as pd \n",
        "import pandas as pd \n",
        "\n",
        "# Creating the DataFrame \n",
        "df = pd.DataFrame({'Date':['10/2/2011', '11/2/2011', '12/2/2011', '13/2/2011'], \n",
        "\t\t\t\t\t'Event':['Music', 'Poetry', 'Theatre', 'Comedy'], \n",
        "\t\t\t\t\t'Cost':[10000, 5000, 15000, 2000]}) \n",
        "\n",
        "# Print the dataframe \n",
        "print(df) \n",
        "\n",
        "# using apply function to create a new column \n",
        "df['Discounted_Price'] = df.apply(lambda row: row.Cost -\n",
        "\t\t\t\t\t\t\t\t(row.Cost * 0.1), axis = 1) \n",
        "\n",
        "# Print the DataFrame after addition \n",
        "# of new column \n",
        "print(df) \n"
      ],
      "execution_count": null,
      "outputs": [
        {
          "output_type": "stream",
          "text": [
            "        Date    Event   Cost\n",
            "0  10/2/2011    Music  10000\n",
            "1  11/2/2011   Poetry   5000\n",
            "2  12/2/2011  Theatre  15000\n",
            "3  13/2/2011   Comedy   2000\n",
            "        Date    Event   Cost  Discounted_Price\n",
            "0  10/2/2011    Music  10000       9000.000000\n",
            "1  11/2/2011   Poetry   5000       4500.000000\n",
            "2  12/2/2011  Theatre  15000      13500.000000\n",
            "3  13/2/2011   Comedy   2000       1800.000000\n"
          ],
          "name": "stdout"
        }
      ]
    },
    {
      "cell_type": "markdown",
      "metadata": {
        "id": "-phtFvl8Bahq"
      },
      "source": [
        "Q 10. creating pandas dataframe column based on condition"
      ]
    },
    {
      "cell_type": "code",
      "metadata": {
        "colab": {
          "base_uri": "https://localhost:8080/"
        },
        "id": "PKGdZAoT61BV",
        "outputId": "08c72de8-0dd7-4cb4-d08d-70c626437550"
      },
      "source": [
        "# importing pandas as pd\n",
        "import pandas as pd\n",
        "\n",
        "# Creating the dataframe\n",
        "df = pd.DataFrame({'Date' : ['11/8/2011', '11/9/2011', '11/10/2011',\n",
        "\t\t\t\t\t\t\t\t\t\t'11/11/2011', '11/12/2011'],\n",
        "\t\t\t\t'Event' : ['Music', 'Poetry', 'Music', 'Music', 'Poetry']})\n",
        "\n",
        "# Print the dataframe\n",
        "print(df)\n",
        "\n",
        "# Add a new column named 'Price'\n",
        "df['Price'] = [1500 if x =='Music' else 800 for x in df['Event']]\n",
        "\n",
        "# Print the DataFrame\n",
        "print(df)\n"
      ],
      "execution_count": null,
      "outputs": [
        {
          "output_type": "stream",
          "text": [
            "         Date   Event\n",
            "0   11/8/2011   Music\n",
            "1   11/9/2011  Poetry\n",
            "2  11/10/2011   Music\n",
            "3  11/11/2011   Music\n",
            "4  11/12/2011  Poetry\n",
            "         Date   Event  Price\n",
            "0   11/8/2011   Music   1500\n",
            "1   11/9/2011  Poetry    800\n",
            "2  11/10/2011   Music   1500\n",
            "3  11/11/2011   Music   1500\n",
            "4  11/12/2011  Poetry    800\n"
          ],
          "name": "stdout"
        }
      ]
    },
    {
      "cell_type": "markdown",
      "metadata": {
        "id": "LNB7MMKcBtHB"
      },
      "source": [
        "Q11 Getting unique values from a pandas column"
      ]
    },
    {
      "cell_type": "code",
      "metadata": {
        "colab": {
          "base_uri": "https://localhost:8080/"
        },
        "id": "uaQxOTI761BW",
        "outputId": "5deed5ab-7db3-4b84-a033-1fc65814a175"
      },
      "source": [
        "# Import pandas package \n",
        "import pandas as pd \n",
        "\n",
        "# create a dictionary with five fields each \n",
        "data = { \n",
        "\t'A':['A1', 'A2', 'A3', 'A4', 'A5'], \n",
        "\t'B':['B1', 'B2', 'B3', 'B4', 'B4'], \n",
        "\t'C':['C1', 'C2', 'C3', 'C3', 'C3'], \n",
        "\t'D':['D1', 'D2', 'D2', 'D2', 'D2'], \n",
        "\t'E':['E1', 'E1', 'E1', 'E1', 'E1'] } \n",
        "\n",
        "# Convert the dictionary into DataFrame \n",
        "df = pd.DataFrame(data) \n",
        "\n",
        "# Get the unique values of 'B' column \n",
        "df.B.unique() \n"
      ],
      "execution_count": null,
      "outputs": [
        {
          "output_type": "execute_result",
          "data": {
            "text/plain": [
              "array(['B1', 'B2', 'B3', 'B4'], dtype=object)"
            ]
          },
          "metadata": {
            "tags": []
          },
          "execution_count": 11
        }
      ]
    },
    {
      "cell_type": "markdown",
      "metadata": {
        "id": "42-qduoXBlIr"
      },
      "source": [
        "Q12 Splitting string"
      ]
    },
    {
      "cell_type": "code",
      "metadata": {
        "colab": {
          "base_uri": "https://localhost:8080/"
        },
        "id": "S1CA6FDN61BV",
        "outputId": "0b0f7b22-541b-4e79-bfc7-8e50ad0a1d64"
      },
      "source": [
        "import pandas as pd\n",
        "import numpy as np\n",
        "df = pd.DataFrame({'Geek_ID':['Geek1_id', 'Geek2_id', 'Geek3_id',\n",
        "\t\t\t\t\t\t\t\t\t\t'Geek4_id', 'Geek5_id'],\n",
        "\t\t\t\t'Geek_A': [1, 1, 3, 2, 4],\n",
        "\t\t\t\t'Geek_B': [1, 2, 3, 4, 6],\n",
        "\t\t\t\t'Geek_R': np.random.randn(5)})\n",
        "\n",
        "\n",
        "\n",
        "print(df.Geek_ID.str.split('_').str[0])\n"
      ],
      "execution_count": null,
      "outputs": [
        {
          "output_type": "stream",
          "text": [
            "0    Geek1\n",
            "1    Geek2\n",
            "2    Geek3\n",
            "3    Geek4\n",
            "4    Geek5\n",
            "Name: Geek_ID, dtype: object\n"
          ],
          "name": "stdout"
        }
      ]
    },
    {
      "cell_type": "code",
      "metadata": {
        "colab": {
          "base_uri": "https://localhost:8080/"
        },
        "id": "960_4CBP61BW",
        "outputId": "5b8d974e-df4b-4b46-ebb0-7c970865f0b6"
      },
      "source": [
        "import pandas as pd\n",
        "\n",
        "dict = {'movie_data':['The Godfather 1972 9.2',\n",
        "\t\t\t\t\t'Bird Box 2018 6.8',\n",
        "\t\t\t\t\t'Fight Club 1999 8.8'] }\n",
        "\n",
        "# Convert the dictionary to a dataframe\n",
        "df = pd.DataFrame(dict)\n",
        "\n",
        "# Extract name from the string\n",
        "df['Name'] = df['movie_data'].str.extract('(\\w*\\s\\w*)', expand=True)\n",
        "\n",
        "# Extract year from the string\n",
        "df['Year'] = df['movie_data'].str.extract('(\\d\\d\\d\\d)', expand=True)\n",
        "\n",
        "# Extract rating from the string\n",
        "df['Rating'] = df['movie_data'].str.extract('(\\d\\.\\d)', expand=True)\n",
        "print(df)\n"
      ],
      "execution_count": null,
      "outputs": [
        {
          "output_type": "stream",
          "text": [
            "               movie_data           Name  Year Rating\n",
            "0  The Godfather 1972 9.2  The Godfather  1972    9.2\n",
            "1       Bird Box 2018 6.8       Bird Box  2018    6.8\n",
            "2     Fight Club 1999 8.8     Fight Club  1999    8.8\n"
          ],
          "name": "stdout"
        }
      ]
    },
    {
      "cell_type": "markdown",
      "metadata": {
        "id": "2A8i6doXg8jS"
      },
      "source": [
        "Q13 Frequency of column"
      ]
    },
    {
      "cell_type": "code",
      "metadata": {
        "colab": {
          "base_uri": "https://localhost:8080/"
        },
        "id": "xRYVJBU_hRuO",
        "outputId": "75a7c6fb-00e1-4889-9ea6-9a38feb08f20"
      },
      "source": [
        "import pandas as pd\n",
        "  \n",
        "\n",
        "df = pd.DataFrame({'Brand': ['Honda Civic','Toyota Corolla','Ford Focus','Audi A4'],  'Price': [22000,25000,27000,35000]\n",
        "}\n",
        ")\n",
        "  \n",
        "count = df.groupby(['Price']).count()\n",
        "print(count)"
      ],
      "execution_count": null,
      "outputs": [
        {
          "output_type": "stream",
          "text": [
            "       Brand\n",
            "Price       \n",
            "22000      1\n",
            "25000      1\n",
            "27000      1\n",
            "35000      1\n"
          ],
          "name": "stdout"
        }
      ]
    },
    {
      "cell_type": "markdown",
      "metadata": {
        "id": "_sHDUyWhhW5b"
      },
      "source": [
        "Q14 Change Data type of column"
      ]
    },
    {
      "cell_type": "code",
      "metadata": {
        "colab": {
          "base_uri": "https://localhost:8080/"
        },
        "id": "XoUqOxkRhcIU",
        "outputId": "7b98db52-e5ba-4e4e-ff1e-9d2e2f0b264a"
      },
      "source": [
        "print(df.dtypes)"
      ],
      "execution_count": null,
      "outputs": [
        {
          "output_type": "stream",
          "text": [
            "Brand    object\n",
            "Price     int64\n",
            "dtype: object\n"
          ],
          "name": "stdout"
        }
      ]
    },
    {
      "cell_type": "code",
      "metadata": {
        "colab": {
          "base_uri": "https://localhost:8080/"
        },
        "id": "VIvA3L5vhg0y",
        "outputId": "62c9f8ac-f9e1-49f4-99d6-6b9f504c5d40"
      },
      "source": [
        "df_str = df.astype(str)\n",
        "print(df_str.dtypes)"
      ],
      "execution_count": null,
      "outputs": [
        {
          "output_type": "stream",
          "text": [
            "Brand    object\n",
            "Price    object\n",
            "dtype: object\n"
          ],
          "name": "stdout"
        }
      ]
    },
    {
      "cell_type": "markdown",
      "metadata": {
        "id": "kQHJGwvyhls5"
      },
      "source": [
        "Q15 Split a text column into 2"
      ]
    },
    {
      "cell_type": "code",
      "metadata": {
        "colab": {
          "base_uri": "https://localhost:8080/",
          "height": 171
        },
        "id": "WJj5lUvFhqo7",
        "outputId": "f28fa435-2c19-4321-c979-f552e6088373"
      },
      "source": [
        "df"
      ],
      "execution_count": null,
      "outputs": [
        {
          "output_type": "execute_result",
          "data": {
            "text/html": [
              "<div>\n",
              "<style scoped>\n",
              "    .dataframe tbody tr th:only-of-type {\n",
              "        vertical-align: middle;\n",
              "    }\n",
              "\n",
              "    .dataframe tbody tr th {\n",
              "        vertical-align: top;\n",
              "    }\n",
              "\n",
              "    .dataframe thead th {\n",
              "        text-align: right;\n",
              "    }\n",
              "</style>\n",
              "<table border=\"1\" class=\"dataframe\">\n",
              "  <thead>\n",
              "    <tr style=\"text-align: right;\">\n",
              "      <th></th>\n",
              "      <th>Brand</th>\n",
              "      <th>Price</th>\n",
              "    </tr>\n",
              "  </thead>\n",
              "  <tbody>\n",
              "    <tr>\n",
              "      <th>0</th>\n",
              "      <td>Honda Civic</td>\n",
              "      <td>22000</td>\n",
              "    </tr>\n",
              "    <tr>\n",
              "      <th>1</th>\n",
              "      <td>Toyota Corolla</td>\n",
              "      <td>25000</td>\n",
              "    </tr>\n",
              "    <tr>\n",
              "      <th>2</th>\n",
              "      <td>Ford Focus</td>\n",
              "      <td>27000</td>\n",
              "    </tr>\n",
              "    <tr>\n",
              "      <th>3</th>\n",
              "      <td>Audi A4</td>\n",
              "      <td>35000</td>\n",
              "    </tr>\n",
              "  </tbody>\n",
              "</table>\n",
              "</div>"
            ],
            "text/plain": [
              "            Brand  Price\n",
              "0     Honda Civic  22000\n",
              "1  Toyota Corolla  25000\n",
              "2      Ford Focus  27000\n",
              "3         Audi A4  35000"
            ]
          },
          "metadata": {
            "tags": []
          },
          "execution_count": 17
        }
      ]
    },
    {
      "cell_type": "code",
      "metadata": {
        "colab": {
          "base_uri": "https://localhost:8080/"
        },
        "id": "10Il6oSIhuKe",
        "outputId": "f841deed-93e2-4714-97ff-ab45c70bf93a"
      },
      "source": [
        "#After splitting\n",
        "print(df.Brand.str.split(expand=True)) "
      ],
      "execution_count": null,
      "outputs": [
        {
          "output_type": "stream",
          "text": [
            "        0        1\n",
            "0   Honda    Civic\n",
            "1  Toyota  Corolla\n",
            "2    Ford    Focus\n",
            "3    Audi       A4\n"
          ],
          "name": "stdout"
        }
      ]
    },
    {
      "cell_type": "markdown",
      "metadata": {
        "id": "mfhlW58UhzjW"
      },
      "source": [
        "Q16 Difference of two columns"
      ]
    },
    {
      "cell_type": "code",
      "metadata": {
        "colab": {
          "base_uri": "https://localhost:8080/"
        },
        "id": "p_rIVNhXh4Zb",
        "outputId": "8b560dbd-4783-4b1a-d7e3-0a5ef5cce15c"
      },
      "source": [
        "df1 = { 'Name':['George','Andrea','micheal', \n",
        "                'maggie','Ravi','Xien','Jalpa'], \n",
        "        'score1':[62,47,55,74,32,77,86], \n",
        "        'score2':[45,78,44,89,66,49,72]} \n",
        "  \n",
        "df1 = pd.DataFrame(df1,columns= ['Name','score1','score2']) \n",
        "  \n",
        "print(\"Original Dataframe :\\n\", df1) \n",
        "  \n",
        "# getting Difference \n",
        "df1['Score_diff'] = df1['score1'] - df1['score2'] \n",
        "print(\"\\nDifference of score1 and score2 :\\n\", df1)"
      ],
      "execution_count": null,
      "outputs": [
        {
          "output_type": "stream",
          "text": [
            "Original Dataframe :\n",
            "       Name  score1  score2\n",
            "0   George      62      45\n",
            "1   Andrea      47      78\n",
            "2  micheal      55      44\n",
            "3   maggie      74      89\n",
            "4     Ravi      32      66\n",
            "5     Xien      77      49\n",
            "6    Jalpa      86      72\n",
            "\n",
            "Difference of score1 and score2 :\n",
            "       Name  score1  score2  Score_diff\n",
            "0   George      62      45          17\n",
            "1   Andrea      47      78         -31\n",
            "2  micheal      55      44          11\n",
            "3   maggie      74      89         -15\n",
            "4     Ravi      32      66         -34\n",
            "5     Xien      77      49          28\n",
            "6    Jalpa      86      72          14\n"
          ],
          "name": "stdout"
        }
      ]
    },
    {
      "cell_type": "markdown",
      "metadata": {
        "id": "v2SKvfiZh9y1"
      },
      "source": [
        "Q17 Index of max value in df column"
      ]
    },
    {
      "cell_type": "code",
      "metadata": {
        "colab": {
          "base_uri": "https://localhost:8080/"
        },
        "id": "OqZUTh3YiGbN",
        "outputId": "a027d270-ed6e-48dc-925a-f60ecca7b377"
      },
      "source": [
        "print('Index of maximum value in DataFrame column')\n",
        "df1[['Score_diff']].idxmax() # index of maximum value in DataFrame column"
      ],
      "execution_count": null,
      "outputs": [
        {
          "output_type": "stream",
          "text": [
            "Index of maximum value in DataFrame column\n"
          ],
          "name": "stdout"
        },
        {
          "output_type": "execute_result",
          "data": {
            "text/plain": [
              "Score_diff    5\n",
              "dtype: int64"
            ]
          },
          "metadata": {
            "tags": []
          },
          "execution_count": 20
        }
      ]
    },
    {
      "cell_type": "markdown",
      "metadata": {
        "id": "8MWPEJCIiKAy"
      },
      "source": [
        "Q18 Index of min value column"
      ]
    },
    {
      "cell_type": "code",
      "metadata": {
        "colab": {
          "base_uri": "https://localhost:8080/"
        },
        "id": "opGsegspiQse",
        "outputId": "a154ef67-b6c9-401a-e688-6590485e2111"
      },
      "source": [
        "print('Index of minimum value in DataFrame column')\n",
        "df1[['Score_diff']].idxmin()"
      ],
      "execution_count": null,
      "outputs": [
        {
          "output_type": "stream",
          "text": [
            "Index of minimum value in DataFrame column\n"
          ],
          "name": "stdout"
        },
        {
          "output_type": "execute_result",
          "data": {
            "text/plain": [
              "Score_diff    4\n",
              "dtype: int64"
            ]
          },
          "metadata": {
            "tags": []
          },
          "execution_count": 21
        }
      ]
    },
    {
      "cell_type": "markdown",
      "metadata": {
        "id": "mSZZL4bPiWAG"
      },
      "source": [
        "Q19 n largest values from a column"
      ]
    },
    {
      "cell_type": "code",
      "metadata": {
        "colab": {
          "base_uri": "https://localhost:8080/",
          "height": 175
        },
        "id": "Mms0WSz3iaj7",
        "outputId": "613d9ec6-2a98-4b08-af4a-1097089f2af1"
      },
      "source": [
        "print('n-largest values from Score_diff')\n",
        "n=int(input('enter n < 7'))\n",
        "df1.nlargest(n, ['Score_diff'])"
      ],
      "execution_count": null,
      "outputs": [
        {
          "output_type": "stream",
          "text": [
            "n-largest values from Score_diff\n",
            "enter n < 73\n"
          ],
          "name": "stdout"
        },
        {
          "output_type": "execute_result",
          "data": {
            "text/html": [
              "<div>\n",
              "<style scoped>\n",
              "    .dataframe tbody tr th:only-of-type {\n",
              "        vertical-align: middle;\n",
              "    }\n",
              "\n",
              "    .dataframe tbody tr th {\n",
              "        vertical-align: top;\n",
              "    }\n",
              "\n",
              "    .dataframe thead th {\n",
              "        text-align: right;\n",
              "    }\n",
              "</style>\n",
              "<table border=\"1\" class=\"dataframe\">\n",
              "  <thead>\n",
              "    <tr style=\"text-align: right;\">\n",
              "      <th></th>\n",
              "      <th>Name</th>\n",
              "      <th>score1</th>\n",
              "      <th>score2</th>\n",
              "      <th>Score_diff</th>\n",
              "    </tr>\n",
              "  </thead>\n",
              "  <tbody>\n",
              "    <tr>\n",
              "      <th>5</th>\n",
              "      <td>Xien</td>\n",
              "      <td>77</td>\n",
              "      <td>49</td>\n",
              "      <td>28</td>\n",
              "    </tr>\n",
              "    <tr>\n",
              "      <th>0</th>\n",
              "      <td>George</td>\n",
              "      <td>62</td>\n",
              "      <td>45</td>\n",
              "      <td>17</td>\n",
              "    </tr>\n",
              "    <tr>\n",
              "      <th>6</th>\n",
              "      <td>Jalpa</td>\n",
              "      <td>86</td>\n",
              "      <td>72</td>\n",
              "      <td>14</td>\n",
              "    </tr>\n",
              "  </tbody>\n",
              "</table>\n",
              "</div>"
            ],
            "text/plain": [
              "     Name  score1  score2  Score_diff\n",
              "5    Xien      77      49          28\n",
              "0  George      62      45          17\n",
              "6   Jalpa      86      72          14"
            ]
          },
          "metadata": {
            "tags": []
          },
          "execution_count": 22
        }
      ]
    },
    {
      "cell_type": "markdown",
      "metadata": {
        "id": "NwyHWkZHin6V"
      },
      "source": [
        "Q20. n smallest values from a column"
      ]
    },
    {
      "cell_type": "code",
      "metadata": {
        "colab": {
          "base_uri": "https://localhost:8080/",
          "height": 206
        },
        "id": "TslgaE78iq4E",
        "outputId": "c193312d-d392-4e49-ff84-3377ff538164"
      },
      "source": [
        "print('n-smallest values from Score_diff')\n",
        "n=int(input('enter n < 7'))\n",
        "df1.nsmallest(n, ['Score_diff']) "
      ],
      "execution_count": null,
      "outputs": [
        {
          "output_type": "stream",
          "text": [
            "n-smallest values from Score_diff\n",
            "enter n < 74\n"
          ],
          "name": "stdout"
        },
        {
          "output_type": "execute_result",
          "data": {
            "text/html": [
              "<div>\n",
              "<style scoped>\n",
              "    .dataframe tbody tr th:only-of-type {\n",
              "        vertical-align: middle;\n",
              "    }\n",
              "\n",
              "    .dataframe tbody tr th {\n",
              "        vertical-align: top;\n",
              "    }\n",
              "\n",
              "    .dataframe thead th {\n",
              "        text-align: right;\n",
              "    }\n",
              "</style>\n",
              "<table border=\"1\" class=\"dataframe\">\n",
              "  <thead>\n",
              "    <tr style=\"text-align: right;\">\n",
              "      <th></th>\n",
              "      <th>Name</th>\n",
              "      <th>score1</th>\n",
              "      <th>score2</th>\n",
              "      <th>Score_diff</th>\n",
              "    </tr>\n",
              "  </thead>\n",
              "  <tbody>\n",
              "    <tr>\n",
              "      <th>4</th>\n",
              "      <td>Ravi</td>\n",
              "      <td>32</td>\n",
              "      <td>66</td>\n",
              "      <td>-34</td>\n",
              "    </tr>\n",
              "    <tr>\n",
              "      <th>1</th>\n",
              "      <td>Andrea</td>\n",
              "      <td>47</td>\n",
              "      <td>78</td>\n",
              "      <td>-31</td>\n",
              "    </tr>\n",
              "    <tr>\n",
              "      <th>3</th>\n",
              "      <td>maggie</td>\n",
              "      <td>74</td>\n",
              "      <td>89</td>\n",
              "      <td>-15</td>\n",
              "    </tr>\n",
              "    <tr>\n",
              "      <th>2</th>\n",
              "      <td>micheal</td>\n",
              "      <td>55</td>\n",
              "      <td>44</td>\n",
              "      <td>11</td>\n",
              "    </tr>\n",
              "  </tbody>\n",
              "</table>\n",
              "</div>"
            ],
            "text/plain": [
              "      Name  score1  score2  Score_diff\n",
              "4     Ravi      32      66         -34\n",
              "1   Andrea      47      78         -31\n",
              "3   maggie      74      89         -15\n",
              "2  micheal      55      44          11"
            ]
          },
          "metadata": {
            "tags": []
          },
          "execution_count": 23
        }
      ]
    },
    {
      "cell_type": "markdown",
      "metadata": {
        "id": "S6q99BxeiwcM"
      },
      "source": [
        "Q21. drop one or more columns"
      ]
    },
    {
      "cell_type": "code",
      "metadata": {
        "colab": {
          "base_uri": "https://localhost:8080/",
          "height": 281
        },
        "id": "fW4Vcj2-i1_9",
        "outputId": "a64d2d81-7e1c-4071-a473-0824c5d868ef"
      },
      "source": [
        "print('Dropping column Score_diff from df1')\n",
        "df1.drop(['Score_diff'], axis = 1) "
      ],
      "execution_count": null,
      "outputs": [
        {
          "output_type": "stream",
          "text": [
            "Dropping column Score_diff from df1\n"
          ],
          "name": "stdout"
        },
        {
          "output_type": "execute_result",
          "data": {
            "text/html": [
              "<div>\n",
              "<style scoped>\n",
              "    .dataframe tbody tr th:only-of-type {\n",
              "        vertical-align: middle;\n",
              "    }\n",
              "\n",
              "    .dataframe tbody tr th {\n",
              "        vertical-align: top;\n",
              "    }\n",
              "\n",
              "    .dataframe thead th {\n",
              "        text-align: right;\n",
              "    }\n",
              "</style>\n",
              "<table border=\"1\" class=\"dataframe\">\n",
              "  <thead>\n",
              "    <tr style=\"text-align: right;\">\n",
              "      <th></th>\n",
              "      <th>Name</th>\n",
              "      <th>score1</th>\n",
              "      <th>score2</th>\n",
              "    </tr>\n",
              "  </thead>\n",
              "  <tbody>\n",
              "    <tr>\n",
              "      <th>0</th>\n",
              "      <td>George</td>\n",
              "      <td>62</td>\n",
              "      <td>45</td>\n",
              "    </tr>\n",
              "    <tr>\n",
              "      <th>1</th>\n",
              "      <td>Andrea</td>\n",
              "      <td>47</td>\n",
              "      <td>78</td>\n",
              "    </tr>\n",
              "    <tr>\n",
              "      <th>2</th>\n",
              "      <td>micheal</td>\n",
              "      <td>55</td>\n",
              "      <td>44</td>\n",
              "    </tr>\n",
              "    <tr>\n",
              "      <th>3</th>\n",
              "      <td>maggie</td>\n",
              "      <td>74</td>\n",
              "      <td>89</td>\n",
              "    </tr>\n",
              "    <tr>\n",
              "      <th>4</th>\n",
              "      <td>Ravi</td>\n",
              "      <td>32</td>\n",
              "      <td>66</td>\n",
              "    </tr>\n",
              "    <tr>\n",
              "      <th>5</th>\n",
              "      <td>Xien</td>\n",
              "      <td>77</td>\n",
              "      <td>49</td>\n",
              "    </tr>\n",
              "    <tr>\n",
              "      <th>6</th>\n",
              "      <td>Jalpa</td>\n",
              "      <td>86</td>\n",
              "      <td>72</td>\n",
              "    </tr>\n",
              "  </tbody>\n",
              "</table>\n",
              "</div>"
            ],
            "text/plain": [
              "      Name  score1  score2\n",
              "0   George      62      45\n",
              "1   Andrea      47      78\n",
              "2  micheal      55      44\n",
              "3   maggie      74      89\n",
              "4     Ravi      32      66\n",
              "5     Xien      77      49\n",
              "6    Jalpa      86      72"
            ]
          },
          "metadata": {
            "tags": []
          },
          "execution_count": 24
        }
      ]
    },
    {
      "cell_type": "markdown",
      "metadata": {
        "id": "GPavwmN2i5om"
      },
      "source": [
        "Q22 lowercase a column name"
      ]
    },
    {
      "cell_type": "code",
      "metadata": {
        "colab": {
          "base_uri": "https://localhost:8080/",
          "height": 189
        },
        "id": "-9qTBkSejKRw",
        "outputId": "c823f9d7-f09c-40c0-b51e-730434fa34a1"
      },
      "source": [
        "print('Converting Column Names to lowercase')\n",
        "df= df.rename(columns=str.lower)\n",
        "df"
      ],
      "execution_count": null,
      "outputs": [
        {
          "output_type": "stream",
          "text": [
            "Converting Column Names to lowercase\n"
          ],
          "name": "stdout"
        },
        {
          "output_type": "execute_result",
          "data": {
            "text/html": [
              "<div>\n",
              "<style scoped>\n",
              "    .dataframe tbody tr th:only-of-type {\n",
              "        vertical-align: middle;\n",
              "    }\n",
              "\n",
              "    .dataframe tbody tr th {\n",
              "        vertical-align: top;\n",
              "    }\n",
              "\n",
              "    .dataframe thead th {\n",
              "        text-align: right;\n",
              "    }\n",
              "</style>\n",
              "<table border=\"1\" class=\"dataframe\">\n",
              "  <thead>\n",
              "    <tr style=\"text-align: right;\">\n",
              "      <th></th>\n",
              "      <th>brand</th>\n",
              "      <th>price</th>\n",
              "    </tr>\n",
              "  </thead>\n",
              "  <tbody>\n",
              "    <tr>\n",
              "      <th>0</th>\n",
              "      <td>Honda Civic</td>\n",
              "      <td>22000</td>\n",
              "    </tr>\n",
              "    <tr>\n",
              "      <th>1</th>\n",
              "      <td>Toyota Corolla</td>\n",
              "      <td>25000</td>\n",
              "    </tr>\n",
              "    <tr>\n",
              "      <th>2</th>\n",
              "      <td>Ford Focus</td>\n",
              "      <td>27000</td>\n",
              "    </tr>\n",
              "    <tr>\n",
              "      <th>3</th>\n",
              "      <td>Audi A4</td>\n",
              "      <td>35000</td>\n",
              "    </tr>\n",
              "  </tbody>\n",
              "</table>\n",
              "</div>"
            ],
            "text/plain": [
              "            brand  price\n",
              "0     Honda Civic  22000\n",
              "1  Toyota Corolla  25000\n",
              "2      Ford Focus  27000\n",
              "3         Audi A4  35000"
            ]
          },
          "metadata": {
            "tags": []
          },
          "execution_count": 25
        }
      ]
    },
    {
      "cell_type": "markdown",
      "metadata": {
        "id": "s8qMpllBjQu4"
      },
      "source": [
        "Q23 Capitalize first letter of column"
      ]
    },
    {
      "cell_type": "code",
      "metadata": {
        "colab": {
          "base_uri": "https://localhost:8080/",
          "height": 281
        },
        "id": "nEIGudxqjW3i",
        "outputId": "c133ab7d-1559-4cd1-aec7-5a38a46c0b88"
      },
      "source": [
        "print('Capitalizing first letter of a column Name')\n",
        "df1['Name'] = df1['Name'].str.capitalize() \n",
        "df1"
      ],
      "execution_count": null,
      "outputs": [
        {
          "output_type": "stream",
          "text": [
            "Capitalizing first letter of a column Name\n"
          ],
          "name": "stdout"
        },
        {
          "output_type": "execute_result",
          "data": {
            "text/html": [
              "<div>\n",
              "<style scoped>\n",
              "    .dataframe tbody tr th:only-of-type {\n",
              "        vertical-align: middle;\n",
              "    }\n",
              "\n",
              "    .dataframe tbody tr th {\n",
              "        vertical-align: top;\n",
              "    }\n",
              "\n",
              "    .dataframe thead th {\n",
              "        text-align: right;\n",
              "    }\n",
              "</style>\n",
              "<table border=\"1\" class=\"dataframe\">\n",
              "  <thead>\n",
              "    <tr style=\"text-align: right;\">\n",
              "      <th></th>\n",
              "      <th>Name</th>\n",
              "      <th>score1</th>\n",
              "      <th>score2</th>\n",
              "      <th>Score_diff</th>\n",
              "    </tr>\n",
              "  </thead>\n",
              "  <tbody>\n",
              "    <tr>\n",
              "      <th>0</th>\n",
              "      <td>George</td>\n",
              "      <td>62</td>\n",
              "      <td>45</td>\n",
              "      <td>17</td>\n",
              "    </tr>\n",
              "    <tr>\n",
              "      <th>1</th>\n",
              "      <td>Andrea</td>\n",
              "      <td>47</td>\n",
              "      <td>78</td>\n",
              "      <td>-31</td>\n",
              "    </tr>\n",
              "    <tr>\n",
              "      <th>2</th>\n",
              "      <td>Micheal</td>\n",
              "      <td>55</td>\n",
              "      <td>44</td>\n",
              "      <td>11</td>\n",
              "    </tr>\n",
              "    <tr>\n",
              "      <th>3</th>\n",
              "      <td>Maggie</td>\n",
              "      <td>74</td>\n",
              "      <td>89</td>\n",
              "      <td>-15</td>\n",
              "    </tr>\n",
              "    <tr>\n",
              "      <th>4</th>\n",
              "      <td>Ravi</td>\n",
              "      <td>32</td>\n",
              "      <td>66</td>\n",
              "      <td>-34</td>\n",
              "    </tr>\n",
              "    <tr>\n",
              "      <th>5</th>\n",
              "      <td>Xien</td>\n",
              "      <td>77</td>\n",
              "      <td>49</td>\n",
              "      <td>28</td>\n",
              "    </tr>\n",
              "    <tr>\n",
              "      <th>6</th>\n",
              "      <td>Jalpa</td>\n",
              "      <td>86</td>\n",
              "      <td>72</td>\n",
              "      <td>14</td>\n",
              "    </tr>\n",
              "  </tbody>\n",
              "</table>\n",
              "</div>"
            ],
            "text/plain": [
              "      Name  score1  score2  Score_diff\n",
              "0   George      62      45          17\n",
              "1   Andrea      47      78         -31\n",
              "2  Micheal      55      44          11\n",
              "3   Maggie      74      89         -15\n",
              "4     Ravi      32      66         -34\n",
              "5     Xien      77      49          28\n",
              "6    Jalpa      86      72          14"
            ]
          },
          "metadata": {
            "tags": []
          },
          "execution_count": 26
        }
      ]
    },
    {
      "cell_type": "markdown",
      "metadata": {
        "id": "Ps_kAReMjduV"
      },
      "source": [
        "Q24 Apply uppercase to a column"
      ]
    },
    {
      "cell_type": "code",
      "metadata": {
        "colab": {
          "base_uri": "https://localhost:8080/",
          "height": 281
        },
        "id": "OS8jrihCjih9",
        "outputId": "ae47e5ef-0d66-4e18-c3f2-871c60bd4870"
      },
      "source": [
        "print('Applying uppercase to a column Name')\n",
        "df1['Name'] = df1['Name'].str.upper() \n",
        "df1"
      ],
      "execution_count": null,
      "outputs": [
        {
          "output_type": "stream",
          "text": [
            "Applying uppercase to a column Name\n"
          ],
          "name": "stdout"
        },
        {
          "output_type": "execute_result",
          "data": {
            "text/html": [
              "<div>\n",
              "<style scoped>\n",
              "    .dataframe tbody tr th:only-of-type {\n",
              "        vertical-align: middle;\n",
              "    }\n",
              "\n",
              "    .dataframe tbody tr th {\n",
              "        vertical-align: top;\n",
              "    }\n",
              "\n",
              "    .dataframe thead th {\n",
              "        text-align: right;\n",
              "    }\n",
              "</style>\n",
              "<table border=\"1\" class=\"dataframe\">\n",
              "  <thead>\n",
              "    <tr style=\"text-align: right;\">\n",
              "      <th></th>\n",
              "      <th>Name</th>\n",
              "      <th>score1</th>\n",
              "      <th>score2</th>\n",
              "      <th>Score_diff</th>\n",
              "    </tr>\n",
              "  </thead>\n",
              "  <tbody>\n",
              "    <tr>\n",
              "      <th>0</th>\n",
              "      <td>GEORGE</td>\n",
              "      <td>62</td>\n",
              "      <td>45</td>\n",
              "      <td>17</td>\n",
              "    </tr>\n",
              "    <tr>\n",
              "      <th>1</th>\n",
              "      <td>ANDREA</td>\n",
              "      <td>47</td>\n",
              "      <td>78</td>\n",
              "      <td>-31</td>\n",
              "    </tr>\n",
              "    <tr>\n",
              "      <th>2</th>\n",
              "      <td>MICHEAL</td>\n",
              "      <td>55</td>\n",
              "      <td>44</td>\n",
              "      <td>11</td>\n",
              "    </tr>\n",
              "    <tr>\n",
              "      <th>3</th>\n",
              "      <td>MAGGIE</td>\n",
              "      <td>74</td>\n",
              "      <td>89</td>\n",
              "      <td>-15</td>\n",
              "    </tr>\n",
              "    <tr>\n",
              "      <th>4</th>\n",
              "      <td>RAVI</td>\n",
              "      <td>32</td>\n",
              "      <td>66</td>\n",
              "      <td>-34</td>\n",
              "    </tr>\n",
              "    <tr>\n",
              "      <th>5</th>\n",
              "      <td>XIEN</td>\n",
              "      <td>77</td>\n",
              "      <td>49</td>\n",
              "      <td>28</td>\n",
              "    </tr>\n",
              "    <tr>\n",
              "      <th>6</th>\n",
              "      <td>JALPA</td>\n",
              "      <td>86</td>\n",
              "      <td>72</td>\n",
              "      <td>14</td>\n",
              "    </tr>\n",
              "  </tbody>\n",
              "</table>\n",
              "</div>"
            ],
            "text/plain": [
              "      Name  score1  score2  Score_diff\n",
              "0   GEORGE      62      45          17\n",
              "1   ANDREA      47      78         -31\n",
              "2  MICHEAL      55      44          11\n",
              "3   MAGGIE      74      89         -15\n",
              "4     RAVI      32      66         -34\n",
              "5     XIEN      77      49          28\n",
              "6    JALPA      86      72          14"
            ]
          },
          "metadata": {
            "tags": []
          },
          "execution_count": 27
        }
      ]
    },
    {
      "cell_type": "markdown",
      "metadata": {
        "id": "P3vvU0twCAWH"
      },
      "source": [
        "Niyati Sinha \n",
        "1805501\n",
        "Done  all 24 Questions"
      ]
    }
  ]
}