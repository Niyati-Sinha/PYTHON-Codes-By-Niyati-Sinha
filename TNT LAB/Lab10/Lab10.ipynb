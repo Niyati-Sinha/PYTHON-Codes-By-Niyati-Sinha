{
  "nbformat": 4,
  "nbformat_minor": 0,
  "metadata": {
    "colab": {
      "name": "Lab10.ipynb",
      "provenance": [],
      "include_colab_link": true
    },
    "kernelspec": {
      "name": "python3",
      "display_name": "Python 3"
    }
  },
  "cells": [
    {
      "cell_type": "markdown",
      "metadata": {
        "id": "view-in-github",
        "colab_type": "text"
      },
      "source": [
        "<a href=\"https://colab.research.google.com/github/Niyati-Sinha/PYTHON-Codes-By-Niyati-Sinha/blob/master/TNT%20LAB/Lab10/Lab10.ipynb\" target=\"_parent\"><img src=\"https://colab.research.google.com/assets/colab-badge.svg\" alt=\"Open In Colab\"/></a>"
      ]
    },
    {
      "cell_type": "markdown",
      "metadata": {
        "id": "-mMltIpVzmHe"
      },
      "source": [
        "Niyati Sinha\n",
        "1805501"
      ]
    },
    {
      "cell_type": "code",
      "metadata": {
        "colab": {
          "base_uri": "https://localhost:8080/"
        },
        "id": "2AfKotWNnG-d",
        "outputId": "47fc53c6-1b0b-46a4-938b-885a7ad5175c"
      },
      "source": [
        "import csv\n",
        "\n",
        "with open(\"test.csv\") as input_csv_file:\n",
        "  csv_reader = csv.reader(input_csv_file,delimiter = ',')\n",
        "\n",
        "  for rows in csv_reader:\n",
        "    print(rows)\n"
      ],
      "execution_count": null,
      "outputs": [
        {
          "output_type": "stream",
          "text": [
            "['Name', 'Age', 'Marks']\n",
            "['A', '20', '33']\n",
            "['A', '20', '33']\n",
            "['A', '20', '33']\n"
          ],
          "name": "stdout"
        }
      ]
    },
    {
      "cell_type": "code",
      "metadata": {
        "colab": {
          "base_uri": "https://localhost:8080/"
        },
        "id": "QwgIcHT6qsMM",
        "outputId": "a3d1eec0-e3a3-42d0-bf42-84210042cb71"
      },
      "source": [
        "import csv\n",
        "\n",
        "with open(\"test.tsv\") as input_tsv_file:\n",
        "  tsv_reader = csv.reader(input_tsv_file,delimiter = '\\t')\n",
        "\n",
        "  for rows in tsv_reader:\n",
        "    print(rows)\n"
      ],
      "execution_count": null,
      "outputs": [
        {
          "output_type": "stream",
          "text": [
            "['Name', 'Age', 'Marks']\n",
            "['A', '20', '100']\n",
            "['B', '0', '0']\n",
            "['C', '69', '69']\n"
          ],
          "name": "stdout"
        }
      ]
    },
    {
      "cell_type": "code",
      "metadata": {
        "colab": {
          "base_uri": "https://localhost:8080/"
        },
        "id": "kasb7Zgwr_wL",
        "outputId": "bc991ac7-7348-499d-e1f6-193ccaad68c8"
      },
      "source": [
        "attributes = ['Name','Age','Marks']\n",
        "data = [['D',10, 1], ['E',23, 78], ['F',32, 85]]\n",
        "with open(\"test.csv\", \"w\", newline='') as file:\n",
        "   writer = csv.writer(file)\n",
        "   writer.writerows(data)\n",
        "with open('test.csv', newline='') as csvfile:\n",
        " data = csv.reader(csvfile)\n",
        " for row in data:\n",
        "   print(row)"
      ],
      "execution_count": null,
      "outputs": [
        {
          "output_type": "stream",
          "text": [
            "['D', '10', '1']\n",
            "['E', '23', '78']\n",
            "['F', '32', '85']\n"
          ],
          "name": "stdout"
        }
      ]
    },
    {
      "cell_type": "code",
      "metadata": {
        "colab": {
          "base_uri": "https://localhost:8080/"
        },
        "id": "3dbeNroHu9kq",
        "outputId": "a1dc3f01-1362-4488-fa49-e2f899d1e0e3"
      },
      "source": [
        "with open(\"test.csv\", \"w\") as file:\n",
        "   writer = csv.writer(file)\n",
        "   for i in range(5):\n",
        "     writer.writerow(('B',i,100*i))\n",
        "\n",
        "print(open(\"test.csv\", \"rt\").read())"
      ],
      "execution_count": null,
      "outputs": [
        {
          "output_type": "stream",
          "text": [
            "B,0,0\n",
            "B,1,100\n",
            "B,2,200\n",
            "B,3,300\n",
            "B,4,400\n",
            "\n"
          ],
          "name": "stdout"
        }
      ]
    },
    {
      "cell_type": "code",
      "metadata": {
        "colab": {
          "base_uri": "https://localhost:8080/"
        },
        "id": "qZQkYHPoulgg",
        "outputId": "5c304e54-7af0-40ca-b991-fc750aca7207"
      },
      "source": [
        "attributes = ['Name','Age','Marks']\n",
        "d = [{'Name':'A','Age':20,'Marks':33},{'Name':'A','Age':20,'Marks':33},{'Name':'A','Age':20,'Marks':33}]\n",
        "with open('test.csv', \"w\") as csvfile:\n",
        "   writer = csv.DictWriter(csvfile,fieldnames= attributes)\n",
        "   writer.writeheader()\n",
        "   writer.writerows(d)\n",
        "with open('test.csv', newline='') as csvfile:\n",
        " data = csv.reader(csvfile)\n",
        " for row in data:\n",
        "   print(row)"
      ],
      "execution_count": null,
      "outputs": [
        {
          "output_type": "stream",
          "text": [
            "['Name', 'Age', 'Marks']\n",
            "['A', '20', '33']\n",
            "['A', '20', '33']\n",
            "['A', '20', '33']\n"
          ],
          "name": "stdout"
        }
      ]
    }
  ]
}