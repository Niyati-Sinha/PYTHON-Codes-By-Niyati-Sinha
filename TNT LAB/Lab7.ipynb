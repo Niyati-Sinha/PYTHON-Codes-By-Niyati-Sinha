{
  "nbformat": 4,
  "nbformat_minor": 0,
  "metadata": {
    "colab": {
      "name": "lab 7.ipynb",
      "provenance": [],
      "authorship_tag": "ABX9TyMQP1Ot1Er9P5VzOaet/WKE",
      "include_colab_link": true
    },
    "kernelspec": {
      "name": "python3",
      "display_name": "Python 3"
    }
  },
  "cells": [
    {
      "cell_type": "markdown",
      "metadata": {
        "id": "view-in-github",
        "colab_type": "text"
      },
      "source": [
        "<a href=\"https://colab.research.google.com/github/Niyati-Sinha/PYTHON-Codes-By-Niyati-Sinha/blob/master/TNT%20LAB/lab_7.ipynb\" target=\"_parent\"><img src=\"https://colab.research.google.com/assets/colab-badge.svg\" alt=\"Open In Colab\"/></a>"
      ]
    },
    {
      "cell_type": "markdown",
      "metadata": {
        "id": "fvU2Y7KIQoQv"
      },
      "source": [
        "Question 1 "
      ]
    },
    {
      "cell_type": "code",
      "metadata": {
        "colab": {
          "base_uri": "https://localhost:8080/"
        },
        "id": "-SoODMCdPxYh",
        "outputId": "becda373-c99f-457f-fa85-997bd5ab4e40"
      },
      "source": [
        "num1=int(input(\"Enter 1st no : \"))\r\n",
        "num2=int(input(\"Enter 1st no : \"))\r\n",
        "max(num1,num2)"
      ],
      "execution_count": 1,
      "outputs": [
        {
          "output_type": "stream",
          "text": [
            "Enter 1st no2\n",
            "Enter 1st no3\n"
          ],
          "name": "stdout"
        },
        {
          "output_type": "execute_result",
          "data": {
            "text/plain": [
              "3"
            ]
          },
          "metadata": {
            "tags": []
          },
          "execution_count": 1
        }
      ]
    },
    {
      "cell_type": "markdown",
      "metadata": {
        "id": "IqWXxg-dQsWY"
      },
      "source": [
        "Question 2"
      ]
    },
    {
      "cell_type": "code",
      "metadata": {
        "id": "FM6V87SgQn_e"
      },
      "source": [
        "def fizz_buzz(n):\r\n",
        "  if n%3==0 and n%5==0:\r\n",
        "    return 'FizzBuzz'\r\n",
        "  elif n%5==0:\r\n",
        "    return 'Buzz'\r\n",
        "  elif n%3==0:\r\n",
        "    return 'Fizz'\r\n",
        "  else:\r\n",
        "    return n"
      ],
      "execution_count": 8,
      "outputs": []
    },
    {
      "cell_type": "code",
      "metadata": {
        "colab": {
          "base_uri": "https://localhost:8080/"
        },
        "id": "00Mlce9MRfxs",
        "outputId": "a01e5dfa-0994-43d4-dd7e-4d7dd8664b61"
      },
      "source": [
        "num=int(input(\"Enter no : \"))\r\n",
        "fizz_buzz(num)"
      ],
      "execution_count": 14,
      "outputs": [
        {
          "output_type": "stream",
          "text": [
            "Enter no : 4\n"
          ],
          "name": "stdout"
        },
        {
          "output_type": "execute_result",
          "data": {
            "text/plain": [
              "4"
            ]
          },
          "metadata": {
            "tags": []
          },
          "execution_count": 14
        }
      ]
    },
    {
      "cell_type": "markdown",
      "metadata": {
        "id": "UYAY9SZ2SL3_"
      },
      "source": [
        "Question 3"
      ]
    },
    {
      "cell_type": "code",
      "metadata": {
        "colab": {
          "base_uri": "https://localhost:8080/"
        },
        "id": "Eylbh1ehSNOn",
        "outputId": "81532e2f-05f8-4436-a047-d1edcda4ffcf"
      },
      "source": [
        "def check_speed(a):\r\n",
        "    if a<70:\r\n",
        "        print(\"OK\")\r\n",
        "    else:\r\n",
        "        b = (a-70)//5\r\n",
        "        print(\"Points:\",b)\r\n",
        "        if b>12:\r\n",
        "            print(\"License Suspended\")\r\n",
        "            \r\n",
        "a = int(input())\r\n",
        "check_speed(a)"
      ],
      "execution_count": 1,
      "outputs": [
        {
          "output_type": "stream",
          "text": [
            "80\n",
            "Points: 2\n"
          ],
          "name": "stdout"
        }
      ]
    },
    {
      "cell_type": "markdown",
      "metadata": {
        "id": "yv3yWNoISPvC"
      },
      "source": [
        "Question 4"
      ]
    },
    {
      "cell_type": "code",
      "metadata": {
        "id": "FtkXAIvySRCb"
      },
      "source": [
        "def showNumbers(limit):\r\n",
        "  for i in range (limit):\r\n",
        "    if i%2==0:\r\n",
        "      print(f' {i} is EVEN')\r\n",
        "    else:\r\n",
        "      print(f' {i} is ODD')\r\n"
      ],
      "execution_count": 19,
      "outputs": []
    },
    {
      "cell_type": "code",
      "metadata": {
        "colab": {
          "base_uri": "https://localhost:8080/"
        },
        "id": "NJ6DE1RESvv1",
        "outputId": "bb906c60-b5cd-4a84-b414-925259100526"
      },
      "source": [
        "showNumbers(10)"
      ],
      "execution_count": 20,
      "outputs": [
        {
          "output_type": "stream",
          "text": [
            " 0 is EVEN\n",
            " 1 is ODD\n",
            " 2 is EVEN\n",
            " 3 is ODD\n",
            " 4 is EVEN\n",
            " 5 is ODD\n",
            " 6 is EVEN\n",
            " 7 is ODD\n",
            " 8 is EVEN\n",
            " 9 is ODD\n"
          ],
          "name": "stdout"
        }
      ]
    },
    {
      "cell_type": "markdown",
      "metadata": {
        "id": "KCRMQ4aQTBCn"
      },
      "source": [
        "Question 5"
      ]
    },
    {
      "cell_type": "code",
      "metadata": {
        "colab": {
          "base_uri": "https://localhost:8080/"
        },
        "id": "qR3nr0ItTCXY",
        "outputId": "35f45559-0cea-4c44-b590-d348a00edfb6"
      },
      "source": [
        "def array(limit):\r\n",
        "    lis=[]\r\n",
        "    s = 0\r\n",
        "    for x in range(3,limit+1):\r\n",
        "        if x%3 == 0 or x%5 == 0:\r\n",
        "          lis.append(x)    \r\n",
        "    print(lis)\r\n",
        "    \r\n",
        "limit = int(input())\r\n",
        "array(limit)"
      ],
      "execution_count": 3,
      "outputs": [
        {
          "output_type": "stream",
          "text": [
            "20\n",
            "[3, 5, 6, 9, 10, 12, 15, 18, 20]\n"
          ],
          "name": "stdout"
        }
      ]
    }
  ]
}
