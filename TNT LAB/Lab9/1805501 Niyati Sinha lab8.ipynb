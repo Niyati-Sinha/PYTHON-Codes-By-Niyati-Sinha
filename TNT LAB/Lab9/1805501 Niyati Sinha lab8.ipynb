{
  "nbformat": 4,
  "nbformat_minor": 0,
  "metadata": {
    "kernelspec": {
      "display_name": "Python 3",
      "language": "python",
      "name": "python3"
    },
    "language_info": {
      "codemirror_mode": {
        "name": "ipython",
        "version": 3
      },
      "file_extension": ".py",
      "mimetype": "text/x-python",
      "name": "python",
      "nbconvert_exporter": "python",
      "pygments_lexer": "ipython3",
      "version": "3.7.6"
    },
    "colab": {
      "name": "lab8.ipynb",
      "provenance": []
    }
  },
  "cells": [
    {
      "cell_type": "markdown",
      "metadata": {
        "id": "liNbJFThepCY"
      },
      "source": [
        "## 1805501\n",
        "## Niyati Sinha\n",
        "## T&T lab 8"
      ]
    },
    {
      "cell_type": "markdown",
      "metadata": {
        "id": "zJ5XZsTmepC4"
      },
      "source": [
        "&nbsp;"
      ]
    },
    {
      "cell_type": "markdown",
      "metadata": {
        "id": "AcKGBTRLepC7"
      },
      "source": [
        "\n",
        "\n",
        "# Insertion Sort\n"
      ]
    },
    {
      "cell_type": "code",
      "metadata": {
        "id": "j1eFa0DqepC9",
        "outputId": "a1aeb769-b229-4931-e0d7-6388b0a68c64"
      },
      "source": [
        "def insertionSort(arr): \n",
        "    for i in range(1, len(arr)): \n",
        "        key = arr[i] \n",
        "        j = i-1\n",
        "        while j >= 0 and key < arr[j] : \n",
        "            arr[j + 1] = arr[j] \n",
        "            j -= 1\n",
        "            arr[j + 1] = key \n",
        "\n",
        "n=int(input(\"Enter number of elements\"))\n",
        "l=[]\n",
        "for i in range(n):\n",
        "    num=int(input(\"Enter number\"))\n",
        "    l.append(num)    \n",
        "insertionSort(l) \n",
        "for i in range(len(l)): \n",
        "    print (l[i]) "
      ],
      "execution_count": null,
      "outputs": [
        {
          "output_type": "stream",
          "text": [
            "Enter number of elements5\n",
            "Enter number4\n",
            "Enter number3\n",
            "Enter number2\n",
            "Enter number1\n",
            "Enter number5\n",
            " 1\n",
            " 2\n",
            " 3\n",
            " 4\n",
            " 5\n"
          ],
          "name": "stdout"
        }
      ]
    },
    {
      "cell_type": "markdown",
      "metadata": {
        "id": "WfQaF3XvepDE"
      },
      "source": [
        "## Merge Sort"
      ]
    },
    {
      "cell_type": "code",
      "metadata": {
        "id": "eYvCaKaGepDH",
        "outputId": "f4a00291-07c2-4e75-fb71-abc03f56a79a"
      },
      "source": [
        "def mergesort(a):\n",
        "    if len(a)>1:\n",
        "        mid=len(a)//2\n",
        "        L=a[:mid]\n",
        "        \n",
        "        R=a[mid:]\n",
        "        \n",
        "        mergesort(L)\n",
        "        \n",
        "        mergesort(R)\n",
        "        \n",
        "        i=j=k=0\n",
        "        \n",
        "        while i<len(L) and j<len(R):\n",
        "            if L[i]<R[j]:\n",
        "                a[k]=L[i]\n",
        "                k+=1\n",
        "                i+=1\n",
        "            else:\n",
        "                a[k]=R[j]\n",
        "                k+=1\n",
        "                j+=1\n",
        "        while i<len(L):\n",
        "            a[k]=L[i]\n",
        "            k+=1\n",
        "            i+=1\n",
        "            \n",
        "        while j<len(R):\n",
        "            a[k]=R[j]\n",
        "            k+=1\n",
        "            j+=1\n",
        "            \n",
        "n=int(input(\"Enter number of elements\"))\n",
        "l=[]\n",
        "for i in range(n):\n",
        "    num=int(input(\"Enter number\"))\n",
        "    l.append(num)    \n",
        "mergesort(l) \n",
        "for i in range(len(l)): \n",
        "    print (l[i]) "
      ],
      "execution_count": null,
      "outputs": [
        {
          "output_type": "stream",
          "text": [
            "Enter number of elements3\n",
            "Enter number3\n",
            "Enter number2\n",
            "Enter number1\n",
            " 1\n",
            " 2\n",
            " 3\n"
          ],
          "name": "stdout"
        }
      ]
    },
    {
      "cell_type": "markdown",
      "metadata": {
        "id": "PH-JXnuqepDK"
      },
      "source": [
        "## Bubble Sort"
      ]
    },
    {
      "cell_type": "code",
      "metadata": {
        "id": "mJ9MnGYNepDL",
        "outputId": "a290fc23-6dbd-43f4-d723-4f89220f5002"
      },
      "source": [
        "def bubblesort(a):\n",
        "    for i in range(len(a)):\n",
        "        for j in range(len(a)-1-i):\n",
        "            if a[j]>a[j+1]:\n",
        "                a[j],a[j+1]=a[j+1],a[j]\n",
        "                \n",
        "n=int(input(\"Enter number of elements\"))\n",
        "l=[]\n",
        "for i in range(n):\n",
        "    num=int(input(\"Enter number\"))\n",
        "    l.append(num)    \n",
        "bubblesort(l) \n",
        "for i in range(len(l)): \n",
        "    print (l[i]) "
      ],
      "execution_count": null,
      "outputs": [
        {
          "output_type": "stream",
          "text": [
            "Enter number of elements5\n",
            "Enter number4\n",
            "Enter number3\n",
            "Enter number2\n",
            "Enter number1\n",
            "Enter number4\n",
            "1\n",
            "2\n",
            "3\n",
            "4\n",
            "4\n"
          ],
          "name": "stdout"
        }
      ]
    },
    {
      "cell_type": "markdown",
      "metadata": {
        "id": "A20MHYj7epDN"
      },
      "source": [
        "## Quick Sort"
      ]
    },
    {
      "cell_type": "code",
      "metadata": {
        "id": "77-J_2o8epDO",
        "outputId": "1e15b58d-03e7-4e10-fd5b-b9b4cbe4d0a8"
      },
      "source": [
        "def partition(arr,low,high): \n",
        "    i = ( low-1 )\n",
        "    pivot = arr[high]      \n",
        "    for j in range(low , high): \n",
        "          if   arr[j] < pivot: \n",
        "            i = i+1 \n",
        "            arr[i],arr[j] = arr[j],arr[i] \n",
        "    arr[i+1],arr[high] = arr[high],arr[i+1] \n",
        "    return ( i+1 ) \n",
        "\n",
        "def quickSort(arr,low,high): \n",
        "    if low < high: \n",
        "        pi = partition(arr,low,high) \n",
        "        quickSort(arr, low, pi-1) \n",
        "        quickSort(arr, pi+1, high) \n",
        "\n",
        "arr = [1,2,3,4,9,8,7,6,5,4] \n",
        "n = len(arr) \n",
        "quickSort(arr,0,n-1) \n",
        "print (\"Sorted array is:\") \n",
        "for i in range(n): \n",
        "    print (arr[i])"
      ],
      "execution_count": null,
      "outputs": [
        {
          "output_type": "stream",
          "text": [
            "Sorted array is:\n",
            "1\n",
            "2\n",
            "3\n",
            "4\n",
            "4\n",
            "5\n",
            "6\n",
            "7\n",
            "8\n",
            "9\n"
          ],
          "name": "stdout"
        }
      ]
    },
    {
      "cell_type": "markdown",
      "metadata": {
        "id": "AcW-9NwpepDS"
      },
      "source": [
        "## Heap Sort"
      ]
    },
    {
      "cell_type": "code",
      "metadata": {
        "id": "hyVupykwepDT",
        "outputId": "b90a82e3-8e87-4290-df91-9f7c38b14466"
      },
      "source": [
        "def heapify(arr, n, i):\n",
        "    largest = i \n",
        "    l = 2 * i + 1\n",
        "    r = 2 * i + 2\n",
        "    if l < n and arr[largest] < arr[l]:\n",
        "        largest = l\n",
        "    if r < n and arr[largest] < arr[r]:\n",
        "        largest = r\n",
        "    if largest != i:\n",
        "        arr[i], arr[largest] = arr[largest], arr[i]  # swap\n",
        "        heapify(arr, n, largest)\n",
        " \n",
        " \n",
        "def heapSort(arr):\n",
        "    n = len(arr)\n",
        "    for i in range(n//2 - 1, -1, -1):\n",
        "        heapify(arr, n, i)\n",
        "    for i in range(n-1, 0, -1):\n",
        "        arr[i], arr[0] = arr[0], arr[i] \n",
        "        heapify(arr, i, 0)\n",
        "arr = [12, 11, 13, 5, 6, 7,1,2,3]\n",
        "heapSort(arr)\n",
        "n = len(arr)\n",
        "print(\"Sorted array is\")\n",
        "for i in range(n):\n",
        "    print(\"%d\" % arr[i])"
      ],
      "execution_count": null,
      "outputs": [
        {
          "output_type": "stream",
          "text": [
            "Sorted array is\n",
            "1\n",
            "2\n",
            "3\n",
            "5\n",
            "6\n",
            "7\n",
            "11\n",
            "12\n",
            "13\n"
          ],
          "name": "stdout"
        }
      ]
    }
  ]
}