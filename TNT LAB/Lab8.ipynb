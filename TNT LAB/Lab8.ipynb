{
  "nbformat": 4,
  "nbformat_minor": 0,
  "metadata": {
    "colab": {
      "name": "Lab8.ipynb",
      "provenance": [],
      "collapsed_sections": [],
      "authorship_tag": "ABX9TyPaNVLjkG44XsLsTI5yN0Tg",
      "include_colab_link": true
    },
    "kernelspec": {
      "name": "python3",
      "display_name": "Python 3"
    }
  },
  "cells": [
    {
      "cell_type": "markdown",
      "metadata": {
        "id": "view-in-github",
        "colab_type": "text"
      },
      "source": [
        "<a href=\"https://colab.research.google.com/github/Niyati-Sinha/PYTHON-Codes-By-Niyati-Sinha/blob/master/TNT%20LAB/Lab8.ipynb\" target=\"_parent\"><img src=\"https://colab.research.google.com/assets/colab-badge.svg\" alt=\"Open In Colab\"/></a>"
      ]
    },
    {
      "cell_type": "markdown",
      "metadata": {
        "id": "xLMGdwom_d8N"
      },
      "source": [
        "#Print the whole file"
      ]
    },
    {
      "cell_type": "code",
      "metadata": {
        "colab": {
          "base_uri": "https://localhost:8080/"
        },
        "id": "5CxDg3Wp_MvZ",
        "outputId": "57a6497d-dff1-4cd7-9599-b13ad5c83726"
      },
      "source": [
        "f=open(\"T&T.txt\",'r')\r\n",
        "lines=f.readlines()\r\n",
        "for line in lines:\r\n",
        "  print(line)"
      ],
      "execution_count": 31,
      "outputs": [
        {
          "output_type": "stream",
          "text": [
            "Hello,\n",
            "\n",
            "\n",
            "\n",
            "I am Niyati Sinha persuing Bachelors in Computer Science Engineering frok KIIT UNIVERSITY\n",
            "\n",
            "\n",
            "\n",
            "The books and friends we have are invaluable.\n"
          ],
          "name": "stdout"
        }
      ]
    },
    {
      "cell_type": "markdown",
      "metadata": {
        "id": "fwGq_zfz_Nr7"
      },
      "source": [
        "#First upload the file T&T.txt or make it available to the notebook."
      ]
    },
    {
      "cell_type": "code",
      "metadata": {
        "colab": {
          "base_uri": "https://localhost:8080/"
        },
        "id": "c4S_iuA4U4bZ",
        "outputId": "ca0ef426-3bac-444d-bc9e-a8dc9da67209"
      },
      "source": [
        "f=open(\"T&T.txt\",\"r\")\r\n",
        "for line in f:\r\n",
        "  for word in line.split():\r\n",
        "    #print(type(word))\r\n",
        "    #if word.startswith(\"S\" or 's'): this does not work properly as or does not work as argument\r\n",
        "    if word.startswith(\"S\") or word.startswith('s'):\r\n",
        "      print(word)"
      ],
      "execution_count": 15,
      "outputs": [
        {
          "output_type": "stream",
          "text": [
            "Sinha\n",
            "Science\n"
          ],
          "name": "stdout"
        }
      ]
    },
    {
      "cell_type": "code",
      "metadata": {
        "id": "0bREdKaYV9eI",
        "colab": {
          "base_uri": "https://localhost:8080/"
        },
        "outputId": "f97b7085-e11b-49ac-9f9b-5724c7873cb8"
      },
      "source": [
        "f=open(\"T&T.txt\",\"r\")\r\n",
        "no=0\r\n",
        "for line in f:\r\n",
        "  for word in line.split():\r\n",
        "    #print(type(word))\r\n",
        "    if word.startswith(\"The\") or word.startswith('the'):\r\n",
        "      #print(word)\r\n",
        "      no+=1\r\n",
        "print(no)"
      ],
      "execution_count": 16,
      "outputs": [
        {
          "output_type": "stream",
          "text": [
            "1\n"
          ],
          "name": "stdout"
        }
      ]
    },
    {
      "cell_type": "code",
      "metadata": {
        "colab": {
          "base_uri": "https://localhost:8080/"
        },
        "id": "DEaBMWi6X_N3",
        "outputId": "bc0264ce-2a33-45f4-c7ff-6403aa210c66"
      },
      "source": [
        "import os\r\n",
        "f=open(\"T&T.txt\",\"r\")\r\n",
        "f.seek(0,os.SEEK_END)\r\n",
        "size=f.tell()\r\n",
        "print(f'{size} bytes')"
      ],
      "execution_count": 17,
      "outputs": [
        {
          "output_type": "stream",
          "text": [
            "148 bytes\n"
          ],
          "name": "stdout"
        }
      ]
    },
    {
      "cell_type": "code",
      "metadata": {
        "colab": {
          "base_uri": "https://localhost:8080/"
        },
        "id": "T6kQsAbwYjge",
        "outputId": "8e5550a6-8427-4935-db38-740ed413dcd8"
      },
      "source": [
        "f=open(\"T&T.txt\",\"r\")\r\n",
        "vowel=['a','e','i','o','u','A','E','I','O','U']\r\n",
        "no=0\r\n",
        "for line in f:\r\n",
        "  for word in line.split():\r\n",
        "    #print(type(word))\r\n",
        "    #if word.startswith('a'or'e'or'i'or'o'or'u'or'A'or'E'or'I'or'O'or'U') == True:\r\n",
        "    if word[0] in vowel:\r\n",
        "      #print(word)\r\n",
        "      no+=1\r\n",
        "print(no)"
      ],
      "execution_count": 18,
      "outputs": [
        {
          "output_type": "stream",
          "text": [
            "8\n"
          ],
          "name": "stdout"
        }
      ]
    },
    {
      "cell_type": "code",
      "metadata": {
        "colab": {
          "base_uri": "https://localhost:8080/"
        },
        "id": "WJnvk8I0ZkRn",
        "outputId": "41aa64ea-ce3c-497a-eaa7-597b1d3594fe"
      },
      "source": [
        "f=open(\"T&T.txt\",\"r\")\r\n",
        "fl=open('new.txt','a')\r\n",
        "for line in f:\r\n",
        "  for word in line.split():\r\n",
        "    #print(type(word))\r\n",
        "    if word.islower():\r\n",
        "      fl.write(\"{} \".format(word))\r\n",
        "\r\n",
        "#print(f' new fine details are:\\n{fl}')\r\n",
        "fl=open('new.txt','r')\r\n",
        "for line in fl:\r\n",
        "  print(f'{line}')"
      ],
      "execution_count": 29,
      "outputs": [
        {
          "output_type": "stream",
          "text": [
            "am persuing in frok books and friends we have are invaluable. am persuing in frok books and friends we have are invaluable. \n"
          ],
          "name": "stdout"
        }
      ]
    },
    {
      "cell_type": "code",
      "metadata": {
        "id": "BI0Qa2kp_cQD"
      },
      "source": [
        ""
      ],
      "execution_count": null,
      "outputs": []
    }
  ]
}